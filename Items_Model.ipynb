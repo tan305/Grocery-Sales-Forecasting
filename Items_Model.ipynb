{
 "cells": [
  {
   "cell_type": "code",
   "execution_count": 1,
   "metadata": {},
   "outputs": [
    {
     "name": "stderr",
     "output_type": "stream",
     "text": [
      "Using TensorFlow backend.\n"
     ]
    },
    {
     "data": {
      "text/plain": [
       "<torch._C.Generator at 0x26958f22e50>"
      ]
     },
     "execution_count": 1,
     "metadata": {},
     "output_type": "execute_result"
    }
   ],
   "source": [
    "import numpy as np\n",
    "import pandas as pd\n",
    "import matplotlib.pyplot as plt\n",
    "import seaborn as sns\n",
    "import torch\n",
    "import datetime\n",
    "from keras.preprocessing.sequence import pad_sequences\n",
    "from keras.layers import Embedding, Input, LSTM\n",
    "from keras.models import Sequential, Model,load_model\n",
    "from keras.layers import Activation, Dense, Dropout, Embedding, Flatten, Input, Convolution1D, MaxPooling1D, GlobalMaxPooling1D\n",
    "import numpy as np\n",
    "from torch.utils.data import TensorDataset\n",
    "from torch.utils.data import DataLoader\n",
    "from torch import optim\n",
    "from sklearn.preprocessing import MinMaxScaler\n",
    "import torch.nn as nn\n",
    "import datetime\n",
    "import pickle\n",
    "torch.manual_seed(0)"
   ]
  },
  {
   "cell_type": "code",
   "execution_count": 2,
   "metadata": {},
   "outputs": [],
   "source": [
    "final_agg_data_items=pd.read_csv(\"items_agg.csv\")"
   ]
  },
  {
   "cell_type": "code",
   "execution_count": 3,
   "metadata": {},
   "outputs": [],
   "source": [
    "final_agg_data_items.drop(\"date\",inplace=True,axis=1)"
   ]
  },
  {
   "cell_type": "code",
   "execution_count": 5,
   "metadata": {},
   "outputs": [],
   "source": [
    "y = torch.tensor(final_agg_data_items['unit_sales'].values.astype(np.float32))\n",
    "X = torch.tensor(final_agg_data_items.drop('unit_sales', axis = 1).values.astype(np.float32)) \n",
    "dataset = TensorDataset(X,y) "
   ]
  },
  {
   "cell_type": "code",
   "execution_count": 5,
   "metadata": {},
   "outputs": [],
   "source": [
    "train_set, val_set = torch.utils.data.random_split(dataset, [37817, 9455])\n",
    "train_loader1 = DataLoader(dataset = train_set, shuffle = True,batch_size=16)"
   ]
  },
  {
   "cell_type": "code",
   "execution_count": 6,
   "metadata": {},
   "outputs": [],
   "source": [
    "validation_loader1=DataLoader(dataset = val_set, shuffle = True,batch_size=9455)"
   ]
  },
  {
   "cell_type": "code",
   "execution_count": 7,
   "metadata": {},
   "outputs": [],
   "source": [
    "for i,j in validation_loader1:\n",
    "    X_test1,y_test1=i,j"
   ]
  },
  {
   "cell_type": "markdown",
   "metadata": {},
   "source": [
    "### Subset"
   ]
  },
  {
   "cell_type": "code",
   "execution_count": 4,
   "metadata": {},
   "outputs": [],
   "source": [
    "y = torch.tensor(final_agg_data_items['unit_sales'].values.astype(np.float32))[:4500]\n",
    "X = torch.tensor(final_agg_data_items.drop('unit_sales', axis = 1).values.astype(np.float32))[:4500] \n",
    "dataset = TensorDataset(X,y) \n",
    "\n",
    "train_set, val_set = torch.utils.data.random_split(dataset, [4000, 500])\n",
    "train_loader1 = DataLoader(dataset = train_set, shuffle = True,batch_size=16)\n",
    "\n",
    "validation_loader1=DataLoader(dataset = val_set, shuffle = True,batch_size=500)\n",
    "\n",
    "for i,j in validation_loader1:\n",
    "    X_test1,y_test1=i,j"
   ]
  },
  {
   "cell_type": "code",
   "execution_count": 5,
   "metadata": {},
   "outputs": [],
   "source": [
    "class FirstNetwork_v1(nn.Module):\n",
    "    def __init__(self,number_of_nodes):\n",
    "        super().__init__()\n",
    "        self.lin1 = nn.Linear(59,number_of_nodes)\n",
    "        self.lin2 = nn.Linear(number_of_nodes, 1)\n",
    "    \n",
    "    def forward(self, X):\n",
    "        a1 = self.lin1(X)\n",
    "        h1 = a1.relu()\n",
    "        a2 = self.lin2(h1)\n",
    "        return a2,a1"
   ]
  },
  {
   "cell_type": "code",
   "execution_count": 6,
   "metadata": {},
   "outputs": [],
   "source": [
    "device = torch.device(\"cuda:0\")"
   ]
  },
  {
   "cell_type": "code",
   "execution_count": 7,
   "metadata": {},
   "outputs": [],
   "source": [
    "all_models_train_loss={}\n",
    "all_models_val_loss={}\n",
    "all_models_time={}"
   ]
  },
  {
   "cell_type": "code",
   "execution_count": 8,
   "metadata": {
    "scrolled": true
   },
   "outputs": [
    {
     "name": "stdout",
     "output_type": "stream",
     "text": [
      "Running Model with 8  nodes\n",
      "0 Times Model Repeated\n",
      "1 Times Model Repeated\n",
      "2 Times Model Repeated\n",
      "3 Times Model Repeated\n",
      "4 Times Model Repeated\n",
      "5 Times Model Repeated\n",
      "6 Times Model Repeated\n",
      "7 Times Model Repeated\n",
      "8 Times Model Repeated\n",
      "9 Times Model Repeated\n",
      "Running Model with 12  nodes\n",
      "0 Times Model Repeated\n",
      "1 Times Model Repeated\n",
      "2 Times Model Repeated\n",
      "3 Times Model Repeated\n",
      "4 Times Model Repeated\n",
      "5 Times Model Repeated\n",
      "6 Times Model Repeated\n",
      "7 Times Model Repeated\n",
      "8 Times Model Repeated\n",
      "9 Times Model Repeated\n",
      "Running Model with 16  nodes\n",
      "0 Times Model Repeated\n",
      "1 Times Model Repeated\n",
      "2 Times Model Repeated\n",
      "3 Times Model Repeated\n",
      "4 Times Model Repeated\n",
      "5 Times Model Repeated\n",
      "6 Times Model Repeated\n",
      "7 Times Model Repeated\n",
      "8 Times Model Repeated\n",
      "9 Times Model Repeated\n",
      "Running Model with 20  nodes\n",
      "0 Times Model Repeated\n",
      "1 Times Model Repeated\n",
      "2 Times Model Repeated\n",
      "3 Times Model Repeated\n",
      "4 Times Model Repeated\n",
      "5 Times Model Repeated\n",
      "6 Times Model Repeated\n",
      "7 Times Model Repeated\n",
      "8 Times Model Repeated\n",
      "9 Times Model Repeated\n",
      "Running Model with 24  nodes\n",
      "0 Times Model Repeated\n",
      "1 Times Model Repeated\n",
      "2 Times Model Repeated\n",
      "3 Times Model Repeated\n",
      "4 Times Model Repeated\n",
      "5 Times Model Repeated\n",
      "6 Times Model Repeated\n",
      "7 Times Model Repeated\n",
      "8 Times Model Repeated\n",
      "9 Times Model Repeated\n",
      "Running Model with 28  nodes\n",
      "0 Times Model Repeated\n",
      "1 Times Model Repeated\n",
      "2 Times Model Repeated\n",
      "3 Times Model Repeated\n",
      "4 Times Model Repeated\n",
      "5 Times Model Repeated\n",
      "6 Times Model Repeated\n",
      "7 Times Model Repeated\n",
      "8 Times Model Repeated\n",
      "9 Times Model Repeated\n",
      "Running Model with 32  nodes\n",
      "0 Times Model Repeated\n",
      "1 Times Model Repeated\n",
      "2 Times Model Repeated\n",
      "3 Times Model Repeated\n",
      "4 Times Model Repeated\n",
      "5 Times Model Repeated\n",
      "6 Times Model Repeated\n",
      "7 Times Model Repeated\n",
      "8 Times Model Repeated\n",
      "9 Times Model Repeated\n"
     ]
    }
   ],
   "source": [
    "for i in range(8,33,4):\n",
    "    print(\"Running Model with \"+str(i),\" nodes\")\n",
    "    all_models_train_loss[i]=[]\n",
    "    all_models_val_loss[i]=[] \n",
    "    all_models_time[i]=[]\n",
    "    for p in range(10):\n",
    "        #torch.manual_seed(np.random.randint(0,1000000,1))\n",
    "        for c,v in validation_loader1:\n",
    "            X_test1,y_test1=c,v\n",
    "        print(str(p)+\" Times Model Repeated\")\n",
    "        start = torch.cuda.Event(enable_timing=True)\n",
    "        end = torch.cuda.Event(enable_timing=True)\n",
    "        model1=FirstNetwork_v1(number_of_nodes=i).to(device)\n",
    "        criterion1 = nn.MSELoss()\n",
    "        training_loss_model1=[]\n",
    "        validation_loss_model1=[]\n",
    "        time_model1=[]\n",
    "        epochs = 100\n",
    "        optimizer1 = optim.SGD(model1.parameters(), lr=0.01)\n",
    "        for epoch in range(epochs):\n",
    "            training_loss_batch=[]\n",
    "            validation_loss_batch=[]\n",
    "            time_batch=[]\n",
    "            for X_train, y_train in train_loader1:\n",
    "                model1.train()\n",
    "                optimizer1.zero_grad()\n",
    "                X_train,y_train=X_train.to(device),y_train.to(device)\n",
    "                start.record()\n",
    "                output,features = model1(X_train)\n",
    "                loss1 = criterion1(output, y_train.reshape(-1,1))\n",
    "                loss1.backward()\n",
    "                optimizer1.step()\n",
    "                end.record()\n",
    "                training_loss_batch.append(loss1.item())\n",
    "                model1.eval()\n",
    "                validation_loss_batch.append(criterion1(model1(X_test1.to(device))[0],y_test1.to(device).reshape(-1,1)).item())\n",
    "                time_batch.append(start.elapsed_time(end))\n",
    "            training_loss_model1.append(training_loss_batch)\n",
    "            validation_loss_model1.append(validation_loss_batch)\n",
    "            time_model1.append(time_batch)\n",
    "        del model1\n",
    "        torch.cuda.empty_cache()\n",
    "        all_models_val_loss[i].append(validation_loss_model1)\n",
    "        all_models_train_loss[i].append(training_loss_model1)\n",
    "        all_models_time[i].append(time_model1)"
   ]
  },
  {
   "cell_type": "code",
   "execution_count": 9,
   "metadata": {},
   "outputs": [],
   "source": [
    "with open('item_model_train_sub.p', 'wb') as fp:\n",
    "    pickle.dump(all_models_train_loss, fp, protocol=pickle.HIGHEST_PROTOCOL)\n",
    "\n",
    "with open('item_model_val_sub.p', 'wb') as fp:\n",
    "    pickle.dump(all_models_val_loss, fp, protocol=pickle.HIGHEST_PROTOCOL)\n",
    "\n",
    "with open('item_model_time_sub.p', 'wb') as fp:\n",
    "    pickle.dump(all_models_time, fp, protocol=pickle.HIGHEST_PROTOCOL)"
   ]
  },
  {
   "cell_type": "raw",
   "metadata": {},
   "source": [
    "with open(r\"item_model_val_sub.p\", \"rb\") as input_file:\n",
    "    all_models_val_loss = pickle.load(input_file)"
   ]
  },
  {
   "cell_type": "code",
   "execution_count": 10,
   "metadata": {},
   "outputs": [
    {
     "name": "stdout",
     "output_type": "stream",
     "text": [
      "8 0.0005636522839777172 4.154376562559264e-05\n",
      "12 0.000564779820269905 2.459806310151693e-05\n",
      "16 0.0005546936318743974 2.7671367566544387e-05\n",
      "20 0.0005635536837857217 2.7488227934772187e-05\n",
      "24 0.0005479372494039126 3.9935157810707905e-05\n",
      "28 0.0005548996355151757 3.36004235106098e-05\n",
      "32 0.0005520467435242609 2.2747787023011585e-05\n"
     ]
    }
   ],
   "source": [
    "for m in sorted(all_models_val_loss.keys()):\n",
    "    print(m,np.mean([min([np.mean(all_models_val_loss[m][k][i]) for i in range(len(all_models_val_loss[m][k]))]) for k in range(len(all_models_val_loss[m]))]),\n",
    "         np.std([min([np.mean(all_models_val_loss[m][k][i]) for i in range(len(all_models_val_loss[m][k]))]) for k in range(len(all_models_val_loss[m]))]))"
   ]
  },
  {
   "cell_type": "code",
   "execution_count": 11,
   "metadata": {},
   "outputs": [],
   "source": [
    "all_models_train_loss={}\n",
    "all_models_val_loss={}\n",
    "all_models_time={}"
   ]
  },
  {
   "cell_type": "code",
   "execution_count": 12,
   "metadata": {
    "scrolled": true
   },
   "outputs": [
    {
     "name": "stdout",
     "output_type": "stream",
     "text": [
      "Running Model with 8  nodes\n",
      "0 Times Model Repeated\n",
      "1 Times Model Repeated\n",
      "2 Times Model Repeated\n",
      "3 Times Model Repeated\n",
      "4 Times Model Repeated\n",
      "5 Times Model Repeated\n",
      "6 Times Model Repeated\n",
      "7 Times Model Repeated\n",
      "8 Times Model Repeated\n",
      "9 Times Model Repeated\n",
      "Running Model with 12  nodes\n",
      "0 Times Model Repeated\n",
      "1 Times Model Repeated\n",
      "2 Times Model Repeated\n",
      "3 Times Model Repeated\n",
      "4 Times Model Repeated\n",
      "5 Times Model Repeated\n",
      "6 Times Model Repeated\n",
      "7 Times Model Repeated\n",
      "8 Times Model Repeated\n",
      "9 Times Model Repeated\n",
      "Running Model with 16  nodes\n",
      "0 Times Model Repeated\n",
      "1 Times Model Repeated\n",
      "2 Times Model Repeated\n",
      "3 Times Model Repeated\n",
      "4 Times Model Repeated\n",
      "5 Times Model Repeated\n",
      "6 Times Model Repeated\n",
      "7 Times Model Repeated\n",
      "8 Times Model Repeated\n",
      "9 Times Model Repeated\n",
      "Running Model with 20  nodes\n",
      "0 Times Model Repeated\n",
      "1 Times Model Repeated\n",
      "2 Times Model Repeated\n",
      "3 Times Model Repeated\n",
      "4 Times Model Repeated\n",
      "5 Times Model Repeated\n",
      "6 Times Model Repeated\n",
      "7 Times Model Repeated\n",
      "8 Times Model Repeated\n",
      "9 Times Model Repeated\n",
      "Running Model with 24  nodes\n",
      "0 Times Model Repeated\n",
      "1 Times Model Repeated\n",
      "2 Times Model Repeated\n",
      "3 Times Model Repeated\n",
      "4 Times Model Repeated\n",
      "5 Times Model Repeated\n",
      "6 Times Model Repeated\n",
      "7 Times Model Repeated\n",
      "8 Times Model Repeated\n",
      "9 Times Model Repeated\n",
      "Running Model with 28  nodes\n",
      "0 Times Model Repeated\n",
      "1 Times Model Repeated\n",
      "2 Times Model Repeated\n",
      "3 Times Model Repeated\n",
      "4 Times Model Repeated\n",
      "5 Times Model Repeated\n",
      "6 Times Model Repeated\n",
      "7 Times Model Repeated\n",
      "8 Times Model Repeated\n",
      "9 Times Model Repeated\n",
      "Running Model with 32  nodes\n",
      "0 Times Model Repeated\n",
      "1 Times Model Repeated\n",
      "2 Times Model Repeated\n",
      "3 Times Model Repeated\n",
      "4 Times Model Repeated\n",
      "5 Times Model Repeated\n",
      "6 Times Model Repeated\n",
      "7 Times Model Repeated\n",
      "8 Times Model Repeated\n",
      "9 Times Model Repeated\n"
     ]
    }
   ],
   "source": [
    "for i in range(8,33,4):\n",
    "    print(\"Running Model with \"+str(i),\" nodes\")\n",
    "    all_models_train_loss[i]=[]\n",
    "    all_models_val_loss[i]=[] \n",
    "    all_models_time[i]=[]\n",
    "    for p in range(10):\n",
    "        #torch.manual_seed(np.random.randint(0,1000000,1))\n",
    "        for c,v in validation_loader1:\n",
    "            X_test1,y_test1=c,v\n",
    "        print(str(p)+\" Times Model Repeated\")\n",
    "        start = torch.cuda.Event(enable_timing=True)\n",
    "        end = torch.cuda.Event(enable_timing=True)\n",
    "        model1=FirstNetwork_v1(number_of_nodes=i).to(device)\n",
    "        criterion1 = nn.MSELoss()\n",
    "        training_loss_model1=[]\n",
    "        validation_loss_model1=[]\n",
    "        time_model1=[]\n",
    "        epochs = 100\n",
    "        optimizer1 = optim.Adam(model1.parameters(), lr=0.01)\n",
    "        for epoch in range(epochs):\n",
    "            training_loss_batch=[]\n",
    "            validation_loss_batch=[]\n",
    "            time_batch=[]\n",
    "            for X_train, y_train in train_loader1:\n",
    "                model1.train()\n",
    "                optimizer1.zero_grad()\n",
    "                X_train,y_train=X_train.to(device),y_train.to(device)\n",
    "                start.record()\n",
    "                output,features = model1(X_train)\n",
    "                loss1 = criterion1(output, y_train.reshape(-1,1))\n",
    "                loss1.backward()\n",
    "                optimizer1.step()\n",
    "                end.record()\n",
    "                training_loss_batch.append(loss1.item())\n",
    "                model1.eval()\n",
    "                validation_loss_batch.append(criterion1(model1(X_test1.to(device))[0],y_test1.to(device).reshape(-1,1)).item())\n",
    "                time_batch.append(start.elapsed_time(end))\n",
    "            training_loss_model1.append(training_loss_batch)\n",
    "            validation_loss_model1.append(validation_loss_batch)\n",
    "            time_model1.append(time_batch)\n",
    "        del model1\n",
    "        torch.cuda.empty_cache()\n",
    "        all_models_val_loss[i].append(validation_loss_model1)\n",
    "        all_models_train_loss[i].append(training_loss_model1)\n",
    "        all_models_time[i].append(time_model1)"
   ]
  },
  {
   "cell_type": "code",
   "execution_count": 13,
   "metadata": {},
   "outputs": [],
   "source": [
    "with open('item_model_train_sub1.p', 'wb') as fp:\n",
    "    pickle.dump(all_models_train_loss, fp, protocol=pickle.HIGHEST_PROTOCOL)\n",
    "\n",
    "with open('item_model_val_sub1.p', 'wb') as fp:\n",
    "    pickle.dump(all_models_val_loss, fp, protocol=pickle.HIGHEST_PROTOCOL)\n",
    "\n",
    "with open('item_model_time_sub1.p', 'wb') as fp:\n",
    "    pickle.dump(all_models_time, fp, protocol=pickle.HIGHEST_PROTOCOL)"
   ]
  },
  {
   "cell_type": "code",
   "execution_count": 14,
   "metadata": {},
   "outputs": [
    {
     "name": "stdout",
     "output_type": "stream",
     "text": [
      "8 0.0003920391722465865 2.0395308715456865e-05\n",
      "12 0.00040141523979837074 1.4180715352374758e-05\n",
      "16 0.0004129926721798256 1.548025645480361e-05\n",
      "20 0.0004147644046111963 1.2750763227951032e-05\n",
      "24 0.00040376113220117984 1.1526223251039313e-05\n",
      "28 0.00041906523117795594 1.0984285360889566e-05\n",
      "32 0.00041761934232199566 1.0346181320166081e-05\n"
     ]
    }
   ],
   "source": [
    "for m in sorted(all_models_val_loss.keys()):\n",
    "    print(m,np.mean([min([np.mean(all_models_val_loss[m][k][i]) for i in range(len(all_models_val_loss[m][k]))]) for k in range(len(all_models_val_loss[m]))]),\n",
    "         np.std([min([np.mean(all_models_val_loss[m][k][i]) for i in range(len(all_models_val_loss[m][k]))]) for k in range(len(all_models_val_loss[m]))]))"
   ]
  },
  {
   "cell_type": "code",
   "execution_count": 15,
   "metadata": {},
   "outputs": [],
   "source": [
    "y = torch.tensor(final_agg_data_items['unit_sales'].values.astype(np.float32))[:4500]\n",
    "X = torch.tensor(final_agg_data_items.drop('unit_sales', axis = 1).values.astype(np.float32))[:4500] \n",
    "dataset = TensorDataset(X,y) \n",
    "\n",
    "train_set, val_set = torch.utils.data.random_split(dataset, [4000, 500])\n",
    "train_loader1 = DataLoader(dataset = train_set, shuffle = True,batch_size=32)\n",
    "\n",
    "validation_loader1=DataLoader(dataset = val_set, shuffle = True,batch_size=500)\n",
    "\n",
    "for i,j in validation_loader1:\n",
    "    X_test1,y_test1=i,j"
   ]
  },
  {
   "cell_type": "code",
   "execution_count": 16,
   "metadata": {},
   "outputs": [],
   "source": [
    "all_models_train_loss={}\n",
    "all_models_val_loss={}\n",
    "all_models_time={}"
   ]
  },
  {
   "cell_type": "code",
   "execution_count": 17,
   "metadata": {
    "scrolled": true
   },
   "outputs": [
    {
     "name": "stdout",
     "output_type": "stream",
     "text": [
      "Running Model with 8  nodes\n",
      "0 Times Model Repeated\n",
      "1 Times Model Repeated\n",
      "2 Times Model Repeated\n",
      "3 Times Model Repeated\n",
      "4 Times Model Repeated\n",
      "5 Times Model Repeated\n",
      "6 Times Model Repeated\n",
      "7 Times Model Repeated\n",
      "8 Times Model Repeated\n",
      "9 Times Model Repeated\n",
      "Running Model with 12  nodes\n",
      "0 Times Model Repeated\n",
      "1 Times Model Repeated\n",
      "2 Times Model Repeated\n",
      "3 Times Model Repeated\n",
      "4 Times Model Repeated\n",
      "5 Times Model Repeated\n",
      "6 Times Model Repeated\n",
      "7 Times Model Repeated\n",
      "8 Times Model Repeated\n",
      "9 Times Model Repeated\n",
      "Running Model with 16  nodes\n",
      "0 Times Model Repeated\n",
      "1 Times Model Repeated\n",
      "2 Times Model Repeated\n",
      "3 Times Model Repeated\n",
      "4 Times Model Repeated\n",
      "5 Times Model Repeated\n",
      "6 Times Model Repeated\n",
      "7 Times Model Repeated\n",
      "8 Times Model Repeated\n",
      "9 Times Model Repeated\n",
      "Running Model with 20  nodes\n",
      "0 Times Model Repeated\n",
      "1 Times Model Repeated\n",
      "2 Times Model Repeated\n",
      "3 Times Model Repeated\n",
      "4 Times Model Repeated\n",
      "5 Times Model Repeated\n",
      "6 Times Model Repeated\n",
      "7 Times Model Repeated\n",
      "8 Times Model Repeated\n",
      "9 Times Model Repeated\n",
      "Running Model with 24  nodes\n",
      "0 Times Model Repeated\n",
      "1 Times Model Repeated\n",
      "2 Times Model Repeated\n",
      "3 Times Model Repeated\n",
      "4 Times Model Repeated\n",
      "5 Times Model Repeated\n",
      "6 Times Model Repeated\n",
      "7 Times Model Repeated\n",
      "8 Times Model Repeated\n",
      "9 Times Model Repeated\n",
      "Running Model with 28  nodes\n",
      "0 Times Model Repeated\n",
      "1 Times Model Repeated\n",
      "2 Times Model Repeated\n",
      "3 Times Model Repeated\n",
      "4 Times Model Repeated\n",
      "5 Times Model Repeated\n",
      "6 Times Model Repeated\n",
      "7 Times Model Repeated\n",
      "8 Times Model Repeated\n",
      "9 Times Model Repeated\n",
      "Running Model with 32  nodes\n",
      "0 Times Model Repeated\n",
      "1 Times Model Repeated\n",
      "2 Times Model Repeated\n",
      "3 Times Model Repeated\n",
      "4 Times Model Repeated\n",
      "5 Times Model Repeated\n",
      "6 Times Model Repeated\n",
      "7 Times Model Repeated\n",
      "8 Times Model Repeated\n",
      "9 Times Model Repeated\n"
     ]
    }
   ],
   "source": [
    "for i in range(8,33,4):\n",
    "    print(\"Running Model with \"+str(i),\" nodes\")\n",
    "    all_models_train_loss[i]=[]\n",
    "    all_models_val_loss[i]=[] \n",
    "    all_models_time[i]=[]\n",
    "    for p in range(10):\n",
    "        #torch.manual_seed(np.random.randint(0,1000000,1))\n",
    "        for c,v in validation_loader1:\n",
    "            X_test1,y_test1=c,v\n",
    "        print(str(p)+\" Times Model Repeated\")\n",
    "        start = torch.cuda.Event(enable_timing=True)\n",
    "        end = torch.cuda.Event(enable_timing=True)\n",
    "        model1=FirstNetwork_v1(number_of_nodes=i).to(device)\n",
    "        criterion1 = nn.MSELoss()\n",
    "        training_loss_model1=[]\n",
    "        validation_loss_model1=[]\n",
    "        time_model1=[]\n",
    "        epochs = 100\n",
    "        optimizer1 = optim.Adam(model1.parameters(), lr=0.01)\n",
    "        for epoch in range(epochs):\n",
    "            training_loss_batch=[]\n",
    "            validation_loss_batch=[]\n",
    "            time_batch=[]\n",
    "            for X_train, y_train in train_loader1:\n",
    "                model1.train()\n",
    "                optimizer1.zero_grad()\n",
    "                X_train,y_train=X_train.to(device),y_train.to(device)\n",
    "                start.record()\n",
    "                output,features = model1(X_train)\n",
    "                loss1 = criterion1(output, y_train.reshape(-1,1))\n",
    "                loss1.backward()\n",
    "                optimizer1.step()\n",
    "                end.record()\n",
    "                training_loss_batch.append(loss1.item())\n",
    "                model1.eval()\n",
    "                validation_loss_batch.append(criterion1(model1(X_test1.to(device))[0],y_test1.to(device).reshape(-1,1)).item())\n",
    "                time_batch.append(start.elapsed_time(end))\n",
    "            training_loss_model1.append(training_loss_batch)\n",
    "            validation_loss_model1.append(validation_loss_batch)\n",
    "            time_model1.append(time_batch)\n",
    "        del model1\n",
    "        torch.cuda.empty_cache()\n",
    "        all_models_val_loss[i].append(validation_loss_model1)\n",
    "        all_models_train_loss[i].append(training_loss_model1)\n",
    "        all_models_time[i].append(time_model1)"
   ]
  },
  {
   "cell_type": "code",
   "execution_count": 18,
   "metadata": {},
   "outputs": [],
   "source": [
    "with open('item_model_train_sub2.p', 'wb') as fp:\n",
    "    pickle.dump(all_models_train_loss, fp, protocol=pickle.HIGHEST_PROTOCOL)\n",
    "\n",
    "with open('item_model_val_sub2.p', 'wb') as fp:\n",
    "    pickle.dump(all_models_val_loss, fp, protocol=pickle.HIGHEST_PROTOCOL)\n",
    "\n",
    "with open('item_model_time_sub2.p', 'wb') as fp:\n",
    "    pickle.dump(all_models_time, fp, protocol=pickle.HIGHEST_PROTOCOL)"
   ]
  },
  {
   "cell_type": "code",
   "execution_count": 19,
   "metadata": {},
   "outputs": [
    {
     "name": "stdout",
     "output_type": "stream",
     "text": [
      "8 0.00033825696867424997 1.8859174560056575e-05\n",
      "12 0.00033522513252682987 1.4521382213293949e-05\n",
      "16 0.00032762858977075665 1.3019008436754745e-05\n",
      "20 0.00034038469686638567 1.2291623537315578e-05\n",
      "24 0.0003293667370453477 1.2302603371162126e-05\n",
      "28 0.00034147421498782933 1.5023899176377172e-05\n",
      "32 0.00034278636747039855 1.376327441764471e-05\n"
     ]
    }
   ],
   "source": [
    "for m in sorted(all_models_val_loss.keys()):\n",
    "    print(m,np.mean([min([np.mean(all_models_val_loss[m][k][i]) for i in range(len(all_models_val_loss[m][k]))]) for k in range(len(all_models_val_loss[m]))]),\n",
    "         np.std([min([np.mean(all_models_val_loss[m][k][i]) for i in range(len(all_models_val_loss[m][k]))]) for k in range(len(all_models_val_loss[m]))]))"
   ]
  },
  {
   "cell_type": "code",
   "execution_count": 20,
   "metadata": {},
   "outputs": [],
   "source": [
    "with open(r\"item_model_val_sub.p\", \"rb\") as input_file:\n",
    "    all_models_val_loss= pickle.load(input_file)\n",
    "\n",
    "item_model_loss={}\n",
    "\n",
    "for m in sorted(all_models_val_loss.keys()):\n",
    "        item_model_loss[m]=[min([np.mean(all_models_val_loss[m][k][i]) for i in range(len(all_models_val_loss[m][k]))]) for k in range(len(all_models_val_loss[m]))]"
   ]
  },
  {
   "cell_type": "code",
   "execution_count": 22,
   "metadata": {},
   "outputs": [],
   "source": [
    "with open(r\"item_model_val_sub1.p\", \"rb\") as input_file:\n",
    "    all_models_val_loss= pickle.load(input_file)\n",
    "\n",
    "item_model_loss1={}\n",
    "\n",
    "for m in sorted(all_models_val_loss.keys()):\n",
    "        item_model_loss1[m]=[min([np.mean(all_models_val_loss[m][k][i]) for i in range(len(all_models_val_loss[m][k]))]) for k in range(len(all_models_val_loss[m]))]"
   ]
  },
  {
   "cell_type": "code",
   "execution_count": 46,
   "metadata": {},
   "outputs": [],
   "source": [
    "with open(r\"item_model_time_sub2.p\", \"rb\") as input_file:\n",
    "    all_models_val_loss= pickle.load(input_file)\n",
    "\n",
    "item_model_loss2={}\n",
    "\n",
    "for m in sorted(all_models_val_loss.keys()):\n",
    "        item_model_loss2[m]=[min([np.mean(all_models_val_loss[m][k][i]) for i in range(len(all_models_val_loss[m][k]))]) for k in range(len(all_models_val_loss[m]))]"
   ]
  },
  {
   "cell_type": "code",
   "execution_count": 40,
   "metadata": {},
   "outputs": [
    {
     "data": {
      "image/png": "[encoded data removed]",
      "text/plain": [
       "<matplotlib.figure.Figure at 0x2694eca7668>"
      ]
     },
     "metadata": {},
     "output_type": "display_data"
    }
   ],
   "source": [
    "fig, ax = plt.subplots(1,3,figsize=(20,8),sharey=True)\n",
    "ax[0].boxplot(item_model_loss.values(),labels=item_model_loss.keys())\n",
    "ax[1].boxplot(item_model_loss1.values(),labels=item_model_loss1.keys())\n",
    "ax[2].boxplot(item_model_loss2.values(),labels=item_model_loss2.keys())\n",
    "ax[0].set_ylabel(\"Mean Squared Error\")\n",
    "ax[0].set_xlabel(\"Stochastic Gradient Descent(Batch Size 16)\")\n",
    "ax[1].set_xlabel(\"Adam Optimizer(Batch Size 16)\")\n",
    "ax[2].set_xlabel(\"Adam Optimizer(Batch Size 32)\");"
   ]
  },
  {
   "cell_type": "code",
   "execution_count": 48,
   "metadata": {},
   "outputs": [],
   "source": [
    "with open(r\"item_model_val_sub1.p\", \"rb\") as input_file:\n",
    "    all_models_val_loss_p= pickle.load(input_file)"
   ]
  },
  {
   "cell_type": "code",
   "execution_count": 58,
   "metadata": {},
   "outputs": [],
   "source": [
    "time_list=[]\n",
    "for y in range(10):\n",
    "    min_arg=np.argmin([np.mean(all_models_val_loss_p[16][y][i]) for i in range(len(all_models_val_loss_p[16][y]))])\n",
    "    time_list.append(np.cumsum([sum(all_models_val_loss[16][y][i]) for i in range(len(all_models_val_loss[16][y]))][:min_arg])[-1])"
   ]
  },
  {
   "cell_type": "code",
   "execution_count": 62,
   "metadata": {},
   "outputs": [
    {
     "data": {
      "text/plain": [
       "28403.851563620567"
      ]
     },
     "execution_count": 62,
     "metadata": {},
     "output_type": "execute_result"
    }
   ],
   "source": [
    "np.mean(time_list)"
   ]
  },
  {
   "cell_type": "markdown",
   "metadata": {},
   "source": [
    "### Final Model"
   ]
  },
  {
   "cell_type": "code",
   "execution_count": 25,
   "metadata": {},
   "outputs": [],
   "source": [
    "y = torch.tensor(final_agg_data_items['unit_sales'].values.astype(np.float32))\n",
    "X = torch.tensor(final_agg_data_items.drop('unit_sales', axis = 1).values.astype(np.float32)) \n",
    "dataset = TensorDataset(X,y) \n",
    "\n",
    "train_set, val_set = torch.utils.data.random_split(dataset, [37817, 9455])\n",
    "train_loader1 = DataLoader(dataset = train_set, shuffle = True,batch_size=32)\n",
    "\n",
    "validation_loader1=DataLoader(dataset = val_set, shuffle = True,batch_size=9455)\n",
    "\n",
    "for i,j in validation_loader1:\n",
    "    X_test1,y_test1=i,j"
   ]
  },
  {
   "cell_type": "code",
   "execution_count": 27,
   "metadata": {},
   "outputs": [],
   "source": [
    "class FirstNetwork_final(nn.Module):\n",
    "    def __init__(self):\n",
    "        super().__init__()\n",
    "        torch.manual_seed(0)\n",
    "        self.lin1 = nn.Linear(59,16)\n",
    "        self.lin2 = nn.Linear(16, 1)\n",
    "    \n",
    "    def forward(self, X):\n",
    "        a1 = self.lin1(X)\n",
    "        h1 = a1.relu()\n",
    "        a2 = self.lin2(h1)\n",
    "        return a2,a1"
   ]
  },
  {
   "cell_type": "code",
   "execution_count": 28,
   "metadata": {},
   "outputs": [],
   "source": [
    "model1=FirstNetwork_final()"
   ]
  },
  {
   "cell_type": "code",
   "execution_count": 29,
   "metadata": {},
   "outputs": [
    {
     "name": "stdout",
     "output_type": "stream",
     "text": [
      "0\n",
      "Training Loss: 0.0004192280644496836\n",
      "Validation Loss: 0.0003552512594477223\n",
      "10\n",
      "Training Loss: 0.0002494790591755051\n",
      "Validation Loss: 0.00021582225935656558\n",
      "20\n",
      "Training Loss: 0.0002544169708983287\n",
      "Validation Loss: 0.00022931470001485142\n",
      "30\n",
      "Training Loss: 0.0002698412232816174\n",
      "Validation Loss: 0.0002281149790103054\n"
     ]
    }
   ],
   "source": [
    "criterion1 = nn.MSELoss()\n",
    "\n",
    "training_loss_model1=[]\n",
    "validation_loss_model1=[]\n",
    "\n",
    "epochs = 40\n",
    "optimizer1 = optim.Adam(model1.parameters(), lr=0.01)\n",
    "\n",
    "for epoch in range(epochs):\n",
    "    training_loss_batch=[]\n",
    "    validation_loss_batch=[]\n",
    "    for X_train, y_train in train_loader1:\n",
    "        optimizer1.zero_grad()\n",
    "        output,features = model1(X_train)\n",
    "        loss1= criterion1(output, y_train.reshape(-1,1))\n",
    "        loss1.backward()\n",
    "        optimizer1.step()\n",
    "        training_loss_batch.append(loss1.item())\n",
    "        validation_loss_batch.append(criterion1(model1(X_test1)[0],y_test1.reshape(-1,1)).item())\n",
    "    validation_loss_model1.append(validation_loss_batch)\n",
    "    training_loss_model1.append(training_loss_batch)\n",
    "    if epoch%10==0:\n",
    "        print(epoch)\n",
    "        print(\"Training Loss:\",np.mean(training_loss_batch))\n",
    "        print(\"Validation Loss:\",np.mean(validation_loss_batch))"
   ]
  },
  {
   "cell_type": "code",
   "execution_count": 30,
   "metadata": {},
   "outputs": [
    {
     "name": "stdout",
     "output_type": "stream",
     "text": [
      "40\n",
      "Training Loss: 0.00026867224403515734\n",
      "Validation Loss: 0.00023864384614720677\n",
      "50\n",
      "Training Loss: 0.0002611137959723525\n",
      "Validation Loss: 0.00023553600391641326\n",
      "60\n",
      "Training Loss: 0.00027825560244989795\n",
      "Validation Loss: 0.0002473072876479885\n",
      "70\n",
      "Training Loss: 0.0002742458388227736\n",
      "Validation Loss: 0.00024237371366319377\n"
     ]
    }
   ],
   "source": [
    "for epoch in range(40,80):\n",
    "    training_loss_batch=[]\n",
    "    validation_loss_batch=[]\n",
    "    for X_train, y_train in train_loader1:\n",
    "        optimizer1.zero_grad()\n",
    "        output,features = model1(X_train)\n",
    "        loss1= criterion1(output, y_train.reshape(-1,1))\n",
    "        loss1.backward()\n",
    "        optimizer1.step()\n",
    "        training_loss_batch.append(loss1.item())\n",
    "        validation_loss_batch.append(criterion1(model1(X_test1)[0],y_test1.reshape(-1,1)).item())\n",
    "    validation_loss_model1.append(validation_loss_batch)\n",
    "    training_loss_model1.append(training_loss_batch)\n",
    "    if epoch%10==0:\n",
    "        print(epoch)\n",
    "        print(\"Training Loss:\",np.mean(training_loss_batch))\n",
    "        print(\"Validation Loss:\",np.mean(validation_loss_batch))"
   ]
  },
  {
   "cell_type": "code",
   "execution_count": 31,
   "metadata": {},
   "outputs": [
    {
     "name": "stdout",
     "output_type": "stream",
     "text": [
      "80\n",
      "Training Loss: 0.0002327643268704832\n",
      "Validation Loss: 0.00020269614195184428\n",
      "90\n",
      "Training Loss: 0.00022921912926474687\n",
      "Validation Loss: 0.00019655229317982857\n",
      "100\n",
      "Training Loss: 0.00023006050573305044\n",
      "Validation Loss: 0.00019810156316702078\n",
      "110\n",
      "Training Loss: 0.00022918316816856365\n",
      "Validation Loss: 0.00019713200570599062\n"
     ]
    }
   ],
   "source": [
    "optimizer1 = optim.Adam(model1.parameters(), lr=0.001)\n",
    "for epoch in range(80,120):\n",
    "    training_loss_batch=[]\n",
    "    validation_loss_batch=[]\n",
    "    for X_train, y_train in train_loader1:\n",
    "        optimizer1.zero_grad()\n",
    "        output,features = model1(X_train)\n",
    "        loss1= criterion1(output, y_train.reshape(-1,1))\n",
    "        loss1.backward()\n",
    "        optimizer1.step()\n",
    "        training_loss_batch.append(loss1.item())\n",
    "        validation_loss_batch.append(criterion1(model1(X_test1)[0],y_test1.reshape(-1,1)).item())\n",
    "    validation_loss_model1.append(validation_loss_batch)\n",
    "    training_loss_model1.append(training_loss_batch)\n",
    "    if epoch%10==0:\n",
    "        print(epoch)\n",
    "        print(\"Training Loss:\",np.mean(training_loss_batch))\n",
    "        print(\"Validation Loss:\",np.mean(validation_loss_batch))"
   ]
  },
  {
   "cell_type": "code",
   "execution_count": 32,
   "metadata": {},
   "outputs": [
    {
     "name": "stdout",
     "output_type": "stream",
     "text": [
      "120\n",
      "Training Loss: 0.0002288852740606173\n",
      "Validation Loss: 0.0001956799971622292\n",
      "130\n",
      "Training Loss: 0.00022952499704893706\n",
      "Validation Loss: 0.0001964997159036045\n",
      "140\n",
      "Training Loss: 0.00022873267439108946\n",
      "Validation Loss: 0.000196079515254987\n",
      "150\n",
      "Training Loss: 0.00022866616765238629\n",
      "Validation Loss: 0.00019667682636512662\n"
     ]
    }
   ],
   "source": [
    "optimizer1 = optim.Adam(model1.parameters(), lr=0.001)\n",
    "for epoch in range(120,160):\n",
    "    training_loss_batch=[]\n",
    "    validation_loss_batch=[]\n",
    "    for X_train, y_train in train_loader1:\n",
    "        optimizer1.zero_grad()\n",
    "        output,features = model1(X_train)\n",
    "        loss1= criterion1(output, y_train.reshape(-1,1))\n",
    "        loss1.backward()\n",
    "        optimizer1.step()\n",
    "        training_loss_batch.append(loss1.item())\n",
    "        validation_loss_batch.append(criterion1(model1(X_test1)[0],y_test1.reshape(-1,1)).item())\n",
    "    validation_loss_model1.append(validation_loss_batch)\n",
    "    training_loss_model1.append(training_loss_batch)\n",
    "    if epoch%10==0:\n",
    "        print(epoch)\n",
    "        print(\"Training Loss:\",np.mean(training_loss_batch))\n",
    "        print(\"Validation Loss:\",np.mean(validation_loss_batch))"
   ]
  },
  {
   "cell_type": "code",
   "execution_count": 33,
   "metadata": {},
   "outputs": [
    {
     "name": "stdout",
     "output_type": "stream",
     "text": [
      "160\n",
      "Training Loss: 0.00022449658524538603\n",
      "Validation Loss: 0.0001919164319780526\n",
      "170\n",
      "Training Loss: 0.00022382415581498897\n",
      "Validation Loss: 0.00019153068674367406\n",
      "180\n",
      "Training Loss: 0.00022375873782185177\n",
      "Validation Loss: 0.00019171667716059323\n",
      "190\n",
      "Training Loss: 0.00022388341147291254\n",
      "Validation Loss: 0.00019146908469464276\n"
     ]
    }
   ],
   "source": [
    "optimizer1 = optim.Adam(model1.parameters(), lr=0.0001)\n",
    "for epoch in range(160,200):\n",
    "    training_loss_batch=[]\n",
    "    validation_loss_batch=[]\n",
    "    for X_train, y_train in train_loader1:\n",
    "        optimizer1.zero_grad()\n",
    "        output,features = model1(X_train)\n",
    "        loss1= criterion1(output, y_train.reshape(-1,1))\n",
    "        loss1.backward()\n",
    "        optimizer1.step()\n",
    "        training_loss_batch.append(loss1.item())\n",
    "        validation_loss_batch.append(criterion1(model1(X_test1)[0],y_test1.reshape(-1,1)).item())\n",
    "    validation_loss_model1.append(validation_loss_batch)\n",
    "    training_loss_model1.append(training_loss_batch)\n",
    "    if epoch%10==0:\n",
    "        print(epoch)\n",
    "        print(\"Training Loss:\",np.mean(training_loss_batch))\n",
    "        print(\"Validation Loss:\",np.mean(validation_loss_batch))"
   ]
  },
  {
   "cell_type": "code",
   "execution_count": 34,
   "metadata": {},
   "outputs": [
    {
     "name": "stdout",
     "output_type": "stream",
     "text": [
      "200\n",
      "Training Loss: 0.00022393588710617858\n",
      "Validation Loss: 0.0001914098133404334\n",
      "210\n",
      "Training Loss: 0.00022405110575323423\n",
      "Validation Loss: 0.00019146792121854406\n",
      "220\n",
      "Training Loss: 0.00022393179557959948\n",
      "Validation Loss: 0.00019145374093116095\n",
      "230\n",
      "Training Loss: 0.00022387686475923037\n",
      "Validation Loss: 0.00019147425301293424\n"
     ]
    }
   ],
   "source": [
    "optimizer1 = optim.Adam(model1.parameters(), lr=0.0001)\n",
    "for epoch in range(200,240):\n",
    "    training_loss_batch=[]\n",
    "    validation_loss_batch=[]\n",
    "    for X_train, y_train in train_loader1:\n",
    "        optimizer1.zero_grad()\n",
    "        output,features = model1(X_train)\n",
    "        loss1= criterion1(output, y_train.reshape(-1,1))\n",
    "        loss1.backward()\n",
    "        optimizer1.step()\n",
    "        training_loss_batch.append(loss1.item())\n",
    "        validation_loss_batch.append(criterion1(model1(X_test1)[0],y_test1.reshape(-1,1)).item())\n",
    "    validation_loss_model1.append(validation_loss_batch)\n",
    "    training_loss_model1.append(training_loss_batch)\n",
    "    if epoch%10==0:\n",
    "        print(epoch)\n",
    "        print(\"Training Loss:\",np.mean(training_loss_batch))\n",
    "        print(\"Validation Loss:\",np.mean(validation_loss_batch))"
   ]
  },
  {
   "cell_type": "code",
   "execution_count": 35,
   "metadata": {},
   "outputs": [],
   "source": [
    "torch.save(model1.state_dict(), \"items_model_final.pt\")"
   ]
  },
  {
   "cell_type": "code",
   "execution_count": null,
   "metadata": {},
   "outputs": [],
   "source": []
  }
 ],
 "metadata": {
  "kernelspec": {
   "display_name": "Python 3",
   "language": "python",
   "name": "python3"
  },
  "language_info": {
   "codemirror_mode": {
    "name": "ipython",
    "version": 3
   },
   "file_extension": ".py",
   "mimetype": "text/x-python",
   "name": "python",
   "nbconvert_exporter": "python",
   "pygments_lexer": "ipython3",
   "version": "3.5.4"
  }
 },
 "nbformat": 4,
 "nbformat_minor": 2
}
