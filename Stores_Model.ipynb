{
 "cells": [
  {
   "cell_type": "code",
   "execution_count": 1,
   "metadata": {},
   "outputs": [
    {
     "name": "stderr",
     "output_type": "stream",
     "text": [
      "Using TensorFlow backend.\n"
     ]
    }
   ],
   "source": [
    "import numpy as np\n",
    "import pandas as pd\n",
    "import matplotlib.pyplot as plt\n",
    "import seaborn as sns\n",
    "import torch\n",
    "import datetime\n",
    "from keras.preprocessing.sequence import pad_sequences\n",
    "from keras.layers import Embedding, Input, LSTM\n",
    "from keras.models import Sequential, Model,load_model\n",
    "from keras.layers import Activation, Dense, Dropout, Embedding, Flatten, Input, Convolution1D, MaxPooling1D, GlobalMaxPooling1D\n",
    "import numpy as np\n",
    "from torch.utils.data import TensorDataset\n",
    "from torch.utils.data import DataLoader\n",
    "from torch import optim\n",
    "from sklearn.preprocessing import MinMaxScaler\n",
    "import torch.nn as nn\n",
    "import datetime\n",
    "import pickle"
   ]
  },
  {
   "cell_type": "code",
   "execution_count": 2,
   "metadata": {},
   "outputs": [],
   "source": [
    "final_agg_data=pd.read_csv(\"stores_agg.csv\")"
   ]
  },
  {
   "cell_type": "code",
   "execution_count": 3,
   "metadata": {
    "scrolled": true
   },
   "outputs": [],
   "source": [
    "final_agg_data.drop(\"transactions\",inplace=True,axis=1)"
   ]
  },
  {
   "cell_type": "code",
   "execution_count": 4,
   "metadata": {},
   "outputs": [],
   "source": [
    "y1 = torch.tensor(final_agg_data['unit_sales'].values.astype(np.float32))\n",
    "X1 = torch.tensor(final_agg_data.drop('unit_sales', axis = 1).values.astype(np.float32)) \n",
    "dataset1 = TensorDataset(X1,y1) "
   ]
  },
  {
   "cell_type": "code",
   "execution_count": 5,
   "metadata": {},
   "outputs": [],
   "source": [
    "train_set1, val_set1 = torch.utils.data.random_split(dataset1, [66488, 16622],)\n",
    "train_loader1 = DataLoader(dataset = train_set1, shuffle = True,batch_size=16)"
   ]
  },
  {
   "cell_type": "code",
   "execution_count": 6,
   "metadata": {},
   "outputs": [],
   "source": [
    "validation_loader1=DataLoader(dataset = val_set1, shuffle = True,batch_size=16622)"
   ]
  },
  {
   "cell_type": "code",
   "execution_count": 7,
   "metadata": {},
   "outputs": [],
   "source": [
    "for i,j in validation_loader1:\n",
    "    X_test1,y_test1=i,j"
   ]
  },
  {
   "cell_type": "markdown",
   "metadata": {},
   "source": [
    "### Subset data"
   ]
  },
  {
   "cell_type": "code",
   "execution_count": 8,
   "metadata": {},
   "outputs": [],
   "source": [
    "y1 = torch.tensor(final_agg_data['unit_sales'].values.astype(np.float32))[:4500]\n",
    "X1 = torch.tensor(final_agg_data.drop('unit_sales', axis = 1).values.astype(np.float32))[:4500] \n",
    "dataset1 = TensorDataset(X1,y1) "
   ]
  },
  {
   "cell_type": "code",
   "execution_count": 9,
   "metadata": {},
   "outputs": [],
   "source": [
    "train_set1, val_set1 = torch.utils.data.random_split(dataset1, [4000,500])\n",
    "train_loader1 = DataLoader(dataset = train_set1, shuffle = True,batch_size=16)"
   ]
  },
  {
   "cell_type": "code",
   "execution_count": 10,
   "metadata": {},
   "outputs": [],
   "source": [
    "validation_loader1=DataLoader(dataset = val_set1, shuffle = True,batch_size=500)"
   ]
  },
  {
   "cell_type": "code",
   "execution_count": 11,
   "metadata": {},
   "outputs": [],
   "source": [
    "for i,j in validation_loader1:\n",
    "    X_test1,y_test1=i,j"
   ]
  },
  {
   "cell_type": "markdown",
   "metadata": {},
   "source": [
    "### Model "
   ]
  },
  {
   "cell_type": "code",
   "execution_count": 17,
   "metadata": {},
   "outputs": [],
   "source": [
    "class FirstNetwork_v1(nn.Module):\n",
    "    def __init__(self,number_of_nodes):\n",
    "        super().__init__()\n",
    "        self.lin1 = nn.Linear(83,number_of_nodes)\n",
    "        self.lin2 = nn.Linear(number_of_nodes, 1)\n",
    "    \n",
    "    def forward(self, X):\n",
    "        a1 = self.lin1(X)\n",
    "        h1 = a1.relu()\n",
    "        a2 = self.lin2(h1)\n",
    "        return a2,a1"
   ]
  },
  {
   "cell_type": "code",
   "execution_count": 18,
   "metadata": {},
   "outputs": [],
   "source": [
    "device = torch.device(\"cuda:0\")"
   ]
  },
  {
   "cell_type": "code",
   "execution_count": 19,
   "metadata": {},
   "outputs": [],
   "source": [
    "all_models_train_loss={}\n",
    "all_models_val_loss={}\n",
    "all_models_time={}"
   ]
  },
  {
   "cell_type": "code",
   "execution_count": 20,
   "metadata": {
    "scrolled": true
   },
   "outputs": [
    {
     "name": "stdout",
     "output_type": "stream",
     "text": [
      "Running Model with 15  nodes\n",
      "0 Times Model Repeated\n",
      "1 Times Model Repeated\n",
      "2 Times Model Repeated\n",
      "3 Times Model Repeated\n",
      "4 Times Model Repeated\n",
      "5 Times Model Repeated\n",
      "6 Times Model Repeated\n",
      "7 Times Model Repeated\n",
      "8 Times Model Repeated\n",
      "9 Times Model Repeated\n",
      "Running Model with 20  nodes\n",
      "0 Times Model Repeated\n",
      "1 Times Model Repeated\n",
      "2 Times Model Repeated\n",
      "3 Times Model Repeated\n",
      "4 Times Model Repeated\n",
      "5 Times Model Repeated\n",
      "6 Times Model Repeated\n",
      "7 Times Model Repeated\n",
      "8 Times Model Repeated\n",
      "9 Times Model Repeated\n",
      "Running Model with 25  nodes\n",
      "0 Times Model Repeated\n",
      "1 Times Model Repeated\n",
      "2 Times Model Repeated\n",
      "3 Times Model Repeated\n",
      "4 Times Model Repeated\n",
      "5 Times Model Repeated\n",
      "6 Times Model Repeated\n",
      "7 Times Model Repeated\n",
      "8 Times Model Repeated\n",
      "9 Times Model Repeated\n",
      "Running Model with 30  nodes\n",
      "0 Times Model Repeated\n",
      "1 Times Model Repeated\n",
      "2 Times Model Repeated\n",
      "3 Times Model Repeated\n",
      "4 Times Model Repeated\n",
      "5 Times Model Repeated\n",
      "6 Times Model Repeated\n",
      "7 Times Model Repeated\n",
      "8 Times Model Repeated\n",
      "9 Times Model Repeated\n",
      "Running Model with 35  nodes\n",
      "0 Times Model Repeated\n",
      "1 Times Model Repeated\n",
      "2 Times Model Repeated\n",
      "3 Times Model Repeated\n",
      "4 Times Model Repeated\n",
      "5 Times Model Repeated\n",
      "6 Times Model Repeated\n",
      "7 Times Model Repeated\n",
      "8 Times Model Repeated\n",
      "9 Times Model Repeated\n",
      "Running Model with 40  nodes\n",
      "0 Times Model Repeated\n",
      "1 Times Model Repeated\n",
      "2 Times Model Repeated\n",
      "3 Times Model Repeated\n",
      "4 Times Model Repeated\n",
      "5 Times Model Repeated\n",
      "6 Times Model Repeated\n",
      "7 Times Model Repeated\n",
      "8 Times Model Repeated\n",
      "9 Times Model Repeated\n"
     ]
    }
   ],
   "source": [
    "for i in range(15,41,5):\n",
    "    print(\"Running Model with \"+str(i),\" nodes\")\n",
    "    all_models_train_loss[i]=[]\n",
    "    all_models_val_loss[i]=[] \n",
    "    all_models_time[i]=[]\n",
    "    for p in range(10):\n",
    "#         torch.manual_seed(np.random.randint(0,1000000,1))\n",
    "#         train_set1, val_set1 = torch.utils.data.random_split(dataset1, [4000,500])\n",
    "#         train_loader1 = DataLoader(dataset = train_set1, shuffle = True,batch_size=16)\n",
    "#         validation_loader1=DataLoader(dataset = val_set1, shuffle = True,batch_size=500)\n",
    "        for c,v in validation_loader1:\n",
    "            X_test1,y_test1=c,v\n",
    "        print(str(p)+\" Times Model Repeated\")\n",
    "        start = torch.cuda.Event(enable_timing=True)\n",
    "        end = torch.cuda.Event(enable_timing=True)\n",
    "        model1=FirstNetwork_v1(number_of_nodes=i).to(device)\n",
    "        criterion1 = nn.MSELoss()\n",
    "        training_loss_model1=[]\n",
    "        validation_loss_model1=[]\n",
    "        time_model1=[]\n",
    "        epochs = 100\n",
    "        optimizer1 = optim.SGD(model1.parameters(), lr=0.01)\n",
    "        for epoch in range(epochs):\n",
    "            training_loss_batch=[]\n",
    "            validation_loss_batch=[]\n",
    "            time_batch=[]\n",
    "            for X_train, y_train in train_loader1:\n",
    "                model1.train()\n",
    "                optimizer1.zero_grad()\n",
    "                X_train,y_train=X_train.to(device),y_train.to(device)\n",
    "                start.record()\n",
    "                output,features = model1(X_train)\n",
    "                loss1 = criterion1(output, y_train.reshape(-1,1))\n",
    "                loss1.backward()\n",
    "                optimizer1.step()\n",
    "                end.record()\n",
    "                training_loss_batch.append(loss1.item())\n",
    "                model1.eval()\n",
    "                validation_loss_batch.append(criterion1(model1(X_test1.to(device))[0],y_test1.to(device).reshape(-1,1)).item())\n",
    "                time_batch.append(start.elapsed_time(end))\n",
    "            training_loss_model1.append(training_loss_batch)\n",
    "            validation_loss_model1.append(validation_loss_batch)\n",
    "            time_model1.append(time_batch)\n",
    "        del model1\n",
    "        torch.cuda.empty_cache()\n",
    "        all_models_val_loss[i].append(validation_loss_model1)\n",
    "        all_models_train_loss[i].append(training_loss_model1)\n",
    "        all_models_time[i].append(time_model1)"
   ]
  },
  {
   "cell_type": "code",
   "execution_count": 21,
   "metadata": {},
   "outputs": [],
   "source": [
    "with open('store_model_train_sub.p', 'wb') as fp:\n",
    "    pickle.dump(all_models_train_loss, fp, protocol=pickle.HIGHEST_PROTOCOL)\n",
    "\n",
    "with open('store_model_val_sub.p', 'wb') as fp:\n",
    "    pickle.dump(all_models_val_loss, fp, protocol=pickle.HIGHEST_PROTOCOL)\n",
    "\n",
    "with open('store_model_time_sub.p', 'wb') as fp:\n",
    "    pickle.dump(all_models_time, fp, protocol=pickle.HIGHEST_PROTOCOL)"
   ]
  },
  {
   "cell_type": "code",
   "execution_count": 22,
   "metadata": {
    "code_folding": []
   },
   "outputs": [
    {
     "name": "stdout",
     "output_type": "stream",
     "text": [
      "15 0.0006706327103311197 8.873485486296187e-05\n",
      "20 0.0005945751896593719 3.882718091821089e-05\n",
      "25 0.0006343823679955676 6.044432135587443e-05\n",
      "30 0.0005887161928927525 0.000102450483857153\n",
      "35 0.0005606920357095077 3.426764732307398e-05\n",
      "40 0.0005674828005954623 4.643754637914265e-05\n"
     ]
    }
   ],
   "source": [
    "for m in sorted(all_models_val_loss.keys()):\n",
    "    print(m,np.mean([min([np.mean(all_models_val_loss[m][k][i]) for i in range(len(all_models_val_loss[m][k]))]) for k in range(len(all_models_val_loss[m]))]),\n",
    "         np.std([min([np.mean(all_models_val_loss[m][k][i]) for i in range(len(all_models_val_loss[m][k]))]) for k in range(len(all_models_val_loss[m]))]))"
   ]
  },
  {
   "cell_type": "code",
   "execution_count": 23,
   "metadata": {},
   "outputs": [],
   "source": [
    "all_models_train_loss={}\n",
    "all_models_val_loss={}\n",
    "all_models_time={}"
   ]
  },
  {
   "cell_type": "code",
   "execution_count": 24,
   "metadata": {
    "scrolled": true
   },
   "outputs": [
    {
     "name": "stdout",
     "output_type": "stream",
     "text": [
      "Running Model with 25  nodes\n",
      "0 Times Model Repeated\n",
      "1 Times Model Repeated\n",
      "2 Times Model Repeated\n",
      "3 Times Model Repeated\n",
      "4 Times Model Repeated\n",
      "5 Times Model Repeated\n",
      "6 Times Model Repeated\n",
      "7 Times Model Repeated\n",
      "8 Times Model Repeated\n",
      "9 Times Model Repeated\n"
     ]
    }
   ],
   "source": [
    "for i in range(25,26,5):\n",
    "    print(\"Running Model with \"+str(i),\" nodes\")\n",
    "    all_models_train_loss[i]=[]\n",
    "    all_models_val_loss[i]=[] \n",
    "    all_models_time[i]=[]\n",
    "    for p in range(10):\n",
    "        #torch.manual_seed(np.random.randint(0,1000000,1))\n",
    "#         train_set1, val_set1 = torch.utils.data.random_split(dataset1, [4000,500])\n",
    "#         train_loader1 = DataLoader(dataset = train_set1, shuffle = True,batch_size=16)\n",
    "#         validation_loader1=DataLoader(dataset = val_set1, shuffle = True,batch_size=500)\n",
    "        for c,v in validation_loader1:\n",
    "            X_test1,y_test1=c,v\n",
    "        print(str(p)+\" Times Model Repeated\")\n",
    "        start = torch.cuda.Event(enable_timing=True)\n",
    "        end = torch.cuda.Event(enable_timing=True)\n",
    "        model1=FirstNetwork_v1(number_of_nodes=i).to(device)\n",
    "        criterion1 = nn.MSELoss()\n",
    "        training_loss_model1=[]\n",
    "        validation_loss_model1=[]\n",
    "        time_model1=[]\n",
    "        epochs = 100\n",
    "        optimizer1 = optim.Adam(model1.parameters(), lr=0.01)\n",
    "        for epoch in range(epochs):\n",
    "            training_loss_batch=[]\n",
    "            validation_loss_batch=[]\n",
    "            time_batch=[]\n",
    "            for X_train, y_train in train_loader1:\n",
    "                model1.train()\n",
    "                optimizer1.zero_grad()\n",
    "                X_train,y_train=X_train.to(device),y_train.to(device)\n",
    "                start.record()\n",
    "                output,features = model1(X_train)\n",
    "                loss1 = criterion1(output, y_train.reshape(-1,1))\n",
    "                loss1.backward()\n",
    "                optimizer1.step()\n",
    "                end.record()\n",
    "                training_loss_batch.append(loss1.item())\n",
    "                model1.eval()\n",
    "                validation_loss_batch.append(criterion1(model1(X_test1.to(device))[0],y_test1.to(device).reshape(-1,1)).item())\n",
    "                time_batch.append(start.elapsed_time(end))\n",
    "            training_loss_model1.append(training_loss_batch)\n",
    "            validation_loss_model1.append(validation_loss_batch)\n",
    "            time_model1.append(time_batch)\n",
    "        del model1\n",
    "        torch.cuda.empty_cache()\n",
    "        all_models_val_loss[i].append(validation_loss_model1)\n",
    "        all_models_train_loss[i].append(training_loss_model1)\n",
    "        all_models_time[i].append(time_model1)"
   ]
  },
  {
   "cell_type": "code",
   "execution_count": 25,
   "metadata": {},
   "outputs": [],
   "source": [
    "with open('store_model_train_sub1.p', 'wb') as fp:\n",
    "    pickle.dump(all_models_train_loss, fp, protocol=pickle.HIGHEST_PROTOCOL)"
   ]
  },
  {
   "cell_type": "code",
   "execution_count": 26,
   "metadata": {},
   "outputs": [],
   "source": [
    "with open('store_model_val_sub1.p', 'wb') as fp:\n",
    "    pickle.dump(all_models_val_loss, fp, protocol=pickle.HIGHEST_PROTOCOL)"
   ]
  },
  {
   "cell_type": "code",
   "execution_count": 27,
   "metadata": {},
   "outputs": [],
   "source": [
    "with open('store_model_time_sub1.p', 'wb') as fp:\n",
    "    pickle.dump(all_models_time, fp, protocol=pickle.HIGHEST_PROTOCOL)"
   ]
  },
  {
   "cell_type": "code",
   "execution_count": 28,
   "metadata": {},
   "outputs": [],
   "source": [
    "time_list=[]\n",
    "for y in range(10):\n",
    "    min_arg=np.argmin([np.mean(all_models_time[25][y][i]) for i in range(len(all_models_time[25][y]))])\n",
    "    time_list.append(np.cumsum([sum(all_models_time[25][y][i]) for i in range(len(all_models_time[25][y]))][:min_arg])[-1])"
   ]
  },
  {
   "cell_type": "code",
   "execution_count": 29,
   "metadata": {},
   "outputs": [
    {
     "data": {
      "text/plain": [
       "29500.5981136322"
      ]
     },
     "execution_count": 29,
     "metadata": {},
     "output_type": "execute_result"
    }
   ],
   "source": [
    "np.mean(time_list)"
   ]
  },
  {
   "cell_type": "code",
   "execution_count": 30,
   "metadata": {},
   "outputs": [
    {
     "name": "stdout",
     "output_type": "stream",
     "text": [
      "25 0.00034839822872309014 1.1648447180425292e-05\n"
     ]
    }
   ],
   "source": [
    "for m in sorted(all_models_val_loss.keys()):\n",
    "    print(m,np.mean([min([np.mean(all_models_val_loss[m][k][i]) for i in range(len(all_models_val_loss[m][k]))]) for k in range(len(all_models_val_loss[m]))]),\n",
    "         np.std([min([np.mean(all_models_val_loss[m][k][i]) for i in range(len(all_models_val_loss[m][k]))]) for k in range(len(all_models_val_loss[m]))]))"
   ]
  },
  {
   "cell_type": "code",
   "execution_count": 31,
   "metadata": {},
   "outputs": [],
   "source": [
    "y1 = torch.tensor(final_agg_data['unit_sales'].values.astype(np.float32))[:4500]\n",
    "X1 = torch.tensor(final_agg_data.drop('unit_sales', axis = 1).values.astype(np.float32))[:4500]\n",
    "dataset1 = TensorDataset(X1,y1) \n",
    "\n",
    "train_set1, val_set1 = torch.utils.data.random_split(dataset1, [4000, 500],)\n",
    "train_loader1 = DataLoader(dataset = train_set1, shuffle = True,batch_size=32)\n",
    "\n",
    "validation_loader1=DataLoader(dataset = val_set1, shuffle = True,batch_size=500)\n",
    "\n",
    "for i,j in validation_loader1:\n",
    "    X_test1,y_test1=i,j"
   ]
  },
  {
   "cell_type": "code",
   "execution_count": 32,
   "metadata": {
    "scrolled": false
   },
   "outputs": [
    {
     "name": "stdout",
     "output_type": "stream",
     "text": [
      "Running Model with 20  nodes\n",
      "0 Times Model Repeated\n",
      "1 Times Model Repeated\n",
      "2 Times Model Repeated\n",
      "3 Times Model Repeated\n",
      "4 Times Model Repeated\n",
      "5 Times Model Repeated\n",
      "6 Times Model Repeated\n",
      "7 Times Model Repeated\n",
      "8 Times Model Repeated\n",
      "9 Times Model Repeated\n",
      "Running Model with 25  nodes\n",
      "0 Times Model Repeated\n",
      "1 Times Model Repeated\n",
      "2 Times Model Repeated\n",
      "3 Times Model Repeated\n",
      "4 Times Model Repeated\n",
      "5 Times Model Repeated\n",
      "6 Times Model Repeated\n",
      "7 Times Model Repeated\n",
      "8 Times Model Repeated\n",
      "9 Times Model Repeated\n",
      "Running Model with 30  nodes\n",
      "0 Times Model Repeated\n",
      "1 Times Model Repeated\n",
      "2 Times Model Repeated\n",
      "3 Times Model Repeated\n",
      "4 Times Model Repeated\n",
      "5 Times Model Repeated\n",
      "6 Times Model Repeated\n",
      "7 Times Model Repeated\n",
      "8 Times Model Repeated\n",
      "9 Times Model Repeated\n",
      "Running Model with 35  nodes\n",
      "0 Times Model Repeated\n",
      "1 Times Model Repeated\n",
      "2 Times Model Repeated\n",
      "3 Times Model Repeated\n",
      "4 Times Model Repeated\n",
      "5 Times Model Repeated\n",
      "6 Times Model Repeated\n",
      "7 Times Model Repeated\n",
      "8 Times Model Repeated\n",
      "9 Times Model Repeated\n",
      "Running Model with 40  nodes\n",
      "0 Times Model Repeated\n",
      "1 Times Model Repeated\n",
      "2 Times Model Repeated\n",
      "3 Times Model Repeated\n",
      "4 Times Model Repeated\n",
      "5 Times Model Repeated\n",
      "6 Times Model Repeated\n",
      "7 Times Model Repeated\n",
      "8 Times Model Repeated\n",
      "9 Times Model Repeated\n"
     ]
    }
   ],
   "source": [
    "all_models_train_loss={}\n",
    "all_models_val_loss={}\n",
    "all_models_time={}\n",
    "\n",
    "for i in range(20,41,5):\n",
    "    print(\"Running Model with \"+str(i),\" nodes\")\n",
    "    all_models_train_loss[i]=[]\n",
    "    all_models_val_loss[i]=[] \n",
    "    all_models_time[i]=[]\n",
    "    for p in range(10):\n",
    "        #torch.manual_seed(np.random.randint(0,1000000,1))\n",
    "#         train_set1, val_set1 = torch.utils.data.random_split(dataset1, [4000,500])\n",
    "#         train_loader1 = DataLoader(dataset = train_set1, shuffle = True,batch_size=16)\n",
    "#         validation_loader1=DataLoader(dataset = val_set1, shuffle = True,batch_size=500)\n",
    "        for c,v in validation_loader1:\n",
    "            X_test1,y_test1=c,v\n",
    "        print(str(p)+\" Times Model Repeated\")\n",
    "        start = torch.cuda.Event(enable_timing=True)\n",
    "        end = torch.cuda.Event(enable_timing=True)\n",
    "        model1=FirstNetwork_v1(number_of_nodes=i).to(device)\n",
    "        criterion1 = nn.MSELoss()\n",
    "        training_loss_model1=[]\n",
    "        validation_loss_model1=[]\n",
    "        time_model1=[]\n",
    "        epochs = 100\n",
    "        optimizer1 = optim.Adam(model1.parameters(), lr=0.01)\n",
    "        for epoch in range(epochs):\n",
    "            training_loss_batch=[]\n",
    "            validation_loss_batch=[]\n",
    "            time_batch=[]\n",
    "            for X_train, y_train in train_loader1:\n",
    "                model1.train()\n",
    "                optimizer1.zero_grad()\n",
    "                X_train,y_train=X_train.to(device),y_train.to(device)\n",
    "                start.record()\n",
    "                output,features = model1(X_train)\n",
    "                loss1 = criterion1(output, y_train.reshape(-1,1))\n",
    "                loss1.backward()\n",
    "                optimizer1.step()\n",
    "                end.record()\n",
    "                training_loss_batch.append(loss1.item())\n",
    "                model1.eval()\n",
    "                validation_loss_batch.append(criterion1(model1(X_test1.to(device))[0],y_test1.to(device).reshape(-1,1)).item())\n",
    "                time_batch.append(start.elapsed_time(end))\n",
    "            training_loss_model1.append(training_loss_batch)\n",
    "            validation_loss_model1.append(validation_loss_batch)\n",
    "            time_model1.append(time_batch)\n",
    "        del model1\n",
    "        torch.cuda.empty_cache()\n",
    "        all_models_val_loss[i].append(validation_loss_model1)\n",
    "        all_models_train_loss[i].append(training_loss_model1)\n",
    "        all_models_time[i].append(time_model1)"
   ]
  },
  {
   "cell_type": "code",
   "execution_count": 33,
   "metadata": {},
   "outputs": [],
   "source": [
    "with open('store_model_train_sub2.p', 'wb') as fp:\n",
    "    pickle.dump(all_models_train_loss, fp, protocol=pickle.HIGHEST_PROTOCOL)\n",
    "\n",
    "with open('store_model_val_sub2.p', 'wb') as fp:\n",
    "    pickle.dump(all_models_val_loss, fp, protocol=pickle.HIGHEST_PROTOCOL)\n",
    "\n",
    "with open('store_model_time_sub2.p', 'wb') as fp:\n",
    "    pickle.dump(all_models_time, fp, protocol=pickle.HIGHEST_PROTOCOL)"
   ]
  },
  {
   "cell_type": "code",
   "execution_count": 34,
   "metadata": {},
   "outputs": [
    {
     "name": "stdout",
     "output_type": "stream",
     "text": [
      "20 0.0004994891935959459 3.117174955118241e-05\n",
      "25 0.0004734137291554362 3.952852312891622e-05\n",
      "30 0.0004859088379424065 5.090764519826238e-05\n",
      "35 0.0004922704371158034 3.380633383850725e-05\n",
      "40 0.0004949642788851633 2.6035526032642234e-05\n"
     ]
    }
   ],
   "source": [
    "for m in sorted(all_models_val_loss.keys()):\n",
    "    print(m,np.mean([min([np.mean(all_models_val_loss[m][k][i]) for i in range(len(all_models_val_loss[m][k]))]) for k in range(len(all_models_val_loss[m]))]),\n",
    "         np.std([min([np.mean(all_models_val_loss[m][k][i]) for i in range(len(all_models_val_loss[m][k]))]) for k in range(len(all_models_val_loss[m]))]))"
   ]
  },
  {
   "cell_type": "code",
   "execution_count": 35,
   "metadata": {},
   "outputs": [],
   "source": [
    "with open(r\"store_model_val_sub.p\", \"rb\") as input_file:\n",
    "    all_models_val_loss= pickle.load(input_file)\n",
    "\n",
    "item_model_loss={}\n",
    "\n",
    "for m in sorted(all_models_val_loss.keys()):\n",
    "        item_model_loss[m]=[min([np.mean(all_models_val_loss[m][k][i]) for i in range(len(all_models_val_loss[m][k]))]) for k in range(len(all_models_val_loss[m]))]"
   ]
  },
  {
   "cell_type": "code",
   "execution_count": 36,
   "metadata": {},
   "outputs": [],
   "source": [
    "with open(r\"store_model_val_sub1.p\", \"rb\") as input_file:\n",
    "    all_models_val_loss= pickle.load(input_file)\n",
    "\n",
    "item_model_loss1={}\n",
    "\n",
    "for m in sorted(all_models_val_loss.keys()):\n",
    "        item_model_loss1[m]=[min([np.mean(all_models_val_loss[m][k][i]) for i in range(len(all_models_val_loss[m][k]))]) for k in range(len(all_models_val_loss[m]))]"
   ]
  },
  {
   "cell_type": "code",
   "execution_count": 37,
   "metadata": {},
   "outputs": [],
   "source": [
    "with open(r\"store_model_val_sub2.p\", \"rb\") as input_file:\n",
    "    all_models_val_loss= pickle.load(input_file)\n",
    "\n",
    "item_model_loss2={}\n",
    "\n",
    "for m in sorted(all_models_val_loss.keys()):\n",
    "        item_model_loss2[m]=[min([np.mean(all_models_val_loss[m][k][i]) for i in range(len(all_models_val_loss[m][k]))]) for k in range(len(all_models_val_loss[m]))]"
   ]
  },
  {
   "cell_type": "code",
   "execution_count": 38,
   "metadata": {},
   "outputs": [
    {
     "data": {
      "image/png": "[encoded data removed]",
      "text/plain": [
       "<matplotlib.figure.Figure at 0x1dab0e31710>"
      ]
     },
     "metadata": {},
     "output_type": "display_data"
    }
   ],
   "source": [
    "fig, ax = plt.subplots(1,3,figsize=(20,8),sharey=True)\n",
    "ax[0].boxplot(item_model_loss.values(),labels=item_model_loss.keys())\n",
    "ax[1].boxplot(item_model_loss1.values(),labels=item_model_loss1.keys())\n",
    "ax[2].boxplot(item_model_loss2.values(),labels=item_model_loss2.keys());"
   ]
  },
  {
   "cell_type": "code",
   "execution_count": 39,
   "metadata": {},
   "outputs": [],
   "source": [
    "with open(r\"store_model_time_sub2.p\", \"rb\") as input_file:\n",
    "    all_models_val_loss= pickle.load(input_file)\n",
    "\n",
    "item_model_loss1={}\n",
    "\n",
    "for m in sorted(all_models_val_loss.keys()):\n",
    "        item_model_loss1[m]=[min([np.mean(all_models_val_loss[m][k][i]) for i in range(len(all_models_val_loss[m][k]))]) for k in range(len(all_models_val_loss[m]))]"
   ]
  },
  {
   "cell_type": "code",
   "execution_count": 40,
   "metadata": {},
   "outputs": [
    {
     "data": {
      "text/plain": [
       "[2.910198522567749,\n",
       " 2.922741502761841,\n",
       " 2.88907928276062,\n",
       " 2.9271982135772707,\n",
       " 2.9103477725982665,\n",
       " 2.9183098773956297,\n",
       " 2.916229621887207,\n",
       " 2.9138618698120116,\n",
       " 2.9096596508026122,\n",
       " 2.893749755859375]"
      ]
     },
     "execution_count": 40,
     "metadata": {},
     "output_type": "execute_result"
    }
   ],
   "source": [
    "item_model_loss1[25]"
   ]
  },
  {
   "cell_type": "markdown",
   "metadata": {},
   "source": [
    "### Final Model"
   ]
  },
  {
   "cell_type": "code",
   "execution_count": 41,
   "metadata": {},
   "outputs": [],
   "source": [
    "y1 = torch.tensor(final_agg_data['unit_sales'].values.astype(np.float32))\n",
    "X1 = torch.tensor(final_agg_data.drop('unit_sales', axis = 1).values.astype(np.float32)) \n",
    "dataset1 = TensorDataset(X1,y1) \n",
    "\n",
    "train_set1, val_set1 = torch.utils.data.random_split(dataset1, [66488, 16622],)\n",
    "train_loader1 = DataLoader(dataset = train_set1, shuffle = True,batch_size=16)\n",
    "\n",
    "validation_loader1=DataLoader(dataset = val_set1, shuffle = True,batch_size=16622)\n",
    "\n",
    "for i,j in validation_loader1:\n",
    "    X_test1,y_test1=i,j"
   ]
  },
  {
   "cell_type": "code",
   "execution_count": 42,
   "metadata": {},
   "outputs": [],
   "source": [
    "class FirstNetwork_final(nn.Module):\n",
    "    def __init__(self):\n",
    "        super().__init__()\n",
    "        torch.manual_seed(0)\n",
    "        self.lin1 = nn.Linear(83,25)\n",
    "        self.lin2 = nn.Linear(25, 1)\n",
    "    \n",
    "    def forward(self, X):\n",
    "        a1 = self.lin1(X)\n",
    "        h1 = a1.relu()\n",
    "        a2 = self.lin2(h1)\n",
    "        return a2,a1"
   ]
  },
  {
   "cell_type": "code",
   "execution_count": 43,
   "metadata": {},
   "outputs": [],
   "source": [
    "model1=FirstNetwork_final()"
   ]
  },
  {
   "cell_type": "code",
   "execution_count": 44,
   "metadata": {},
   "outputs": [
    {
     "name": "stdout",
     "output_type": "stream",
     "text": [
      "0\n",
      "Training Loss: 0.0005937622772298613\n",
      "Validation Loss: 0.0005488837452260155\n",
      "10\n",
      "Training Loss: 0.0005307834128015814\n",
      "Validation Loss: 0.00048798109912225003\n",
      "20\n",
      "Training Loss: 0.000539958095696884\n",
      "Validation Loss: 0.0004973362102104361\n",
      "30\n",
      "Training Loss: 0.0005358810311926084\n",
      "Validation Loss: 0.0004984814802878712\n"
     ]
    }
   ],
   "source": [
    "criterion1 = nn.MSELoss()\n",
    "\n",
    "training_loss_model1=[]\n",
    "validation_loss_model1=[]\n",
    "\n",
    "epochs = 40\n",
    "optimizer1 = optim.Adam(model1.parameters(), lr=0.01)\n",
    "\n",
    "for epoch in range(epochs):\n",
    "    training_loss_batch=[]\n",
    "    validation_loss_batch=[]\n",
    "    for X_train, y_train in train_loader1:\n",
    "        model1.train()\n",
    "        optimizer1.zero_grad()\n",
    "        output,features = model1(X_train)\n",
    "        loss1 = criterion1(output, y_train.reshape(-1,1))\n",
    "        loss1.backward()\n",
    "        optimizer1.step()\n",
    "        training_loss_batch.append(loss1.item())\n",
    "        model1.eval()\n",
    "        validation_loss_batch.append(criterion1(model1(X_test1)[0],y_test1.reshape(-1,1)).item())\n",
    "    validation_loss_model1.append(validation_loss_batch)\n",
    "    training_loss_model1.append(training_loss_batch)\n",
    "    if epoch%10==0:\n",
    "        print(epoch)\n",
    "        print(\"Training Loss:\",np.mean(training_loss_batch))\n",
    "        print(\"Validation Loss:\",np.mean(validation_loss_batch))"
   ]
  },
  {
   "cell_type": "code",
   "execution_count": 45,
   "metadata": {},
   "outputs": [
    {
     "name": "stdout",
     "output_type": "stream",
     "text": [
      "40\n",
      "Training Loss: 0.00041670804667275985\n",
      "Validation Loss: 0.0003705873554092348\n",
      "50\n",
      "Training Loss: 0.0004103782580456934\n",
      "Validation Loss: 0.00036635024500830383\n",
      "60\n",
      "Training Loss: 0.00040948702737490447\n",
      "Validation Loss: 0.00036463019897838825\n",
      "70\n",
      "Training Loss: 0.00040972938838813405\n",
      "Validation Loss: 0.0003653913554059287\n",
      "80\n",
      "Training Loss: 0.0004111796339050244\n",
      "Validation Loss: 0.0003662864031861523\n",
      "90\n",
      "Training Loss: 0.0004099144978863653\n",
      "Validation Loss: 0.00036555995756525615\n",
      "100\n",
      "Training Loss: 0.00040946170592982985\n",
      "Validation Loss: 0.0003645406403645821\n",
      "110\n",
      "Training Loss: 0.00041041027444627234\n",
      "Validation Loss: 0.0003641856148307565\n",
      "120\n",
      "Training Loss: 0.0004100396466560137\n",
      "Validation Loss: 0.0003651991240735456\n",
      "130\n",
      "Training Loss: 0.00041011266612442447\n",
      "Validation Loss: 0.00036500573345492267\n"
     ]
    }
   ],
   "source": [
    "optimizer1 = optim.Adam(model1.parameters(), lr=0.001)\n",
    "\n",
    "for epoch in range(40,140):\n",
    "    training_loss_batch=[]\n",
    "    validation_loss_batch=[]\n",
    "    for X_train, y_train in train_loader1:\n",
    "        model1.train()\n",
    "        optimizer1.zero_grad()\n",
    "        output,features = model1(X_train)\n",
    "        loss1 = criterion1(output, y_train.reshape(-1,1))\n",
    "        loss1.backward()\n",
    "        optimizer1.step()\n",
    "        training_loss_batch.append(loss1.item())\n",
    "        model1.eval()\n",
    "        validation_loss_batch.append(criterion1(model1(X_test1)[0],y_test1.reshape(-1,1)).item())\n",
    "    validation_loss_model1.append(validation_loss_batch)\n",
    "    training_loss_model1.append(training_loss_batch)\n",
    "    if epoch%10==0:\n",
    "        print(epoch)\n",
    "        print(\"Training Loss:\",np.mean(training_loss_batch))\n",
    "        print(\"Validation Loss:\",np.mean(validation_loss_batch))"
   ]
  },
  {
   "cell_type": "code",
   "execution_count": 46,
   "metadata": {},
   "outputs": [
    {
     "name": "stdout",
     "output_type": "stream",
     "text": [
      "140\n",
      "Training Loss: 0.00039874573577007463\n",
      "Validation Loss: 0.0003546733622949237\n",
      "150\n",
      "Training Loss: 0.0003979502398688335\n",
      "Validation Loss: 0.00035380173512897836\n",
      "160\n",
      "Training Loss: 0.0003981540647385148\n",
      "Validation Loss: 0.0003535072512838284\n",
      "170\n",
      "Training Loss: 0.00039835251999787065\n",
      "Validation Loss: 0.0003533483893068012\n"
     ]
    }
   ],
   "source": [
    "optimizer1 = optim.Adam(model1.parameters(), lr=0.0001)\n",
    "\n",
    "for epoch in range(140,180):\n",
    "    training_loss_batch=[]\n",
    "    validation_loss_batch=[]\n",
    "    for X_train, y_train in train_loader1:\n",
    "        model1.train()\n",
    "        optimizer1.zero_grad()\n",
    "        output,features = model1(X_train)\n",
    "        loss1 = criterion1(output, y_train.reshape(-1,1))\n",
    "        loss1.backward()\n",
    "        optimizer1.step()\n",
    "        training_loss_batch.append(loss1.item())\n",
    "        model1.eval()\n",
    "        validation_loss_batch.append(criterion1(model1(X_test1)[0],y_test1.reshape(-1,1)).item())\n",
    "    validation_loss_model1.append(validation_loss_batch)\n",
    "    training_loss_model1.append(training_loss_batch)\n",
    "    if epoch%10==0:\n",
    "        print(epoch)\n",
    "        print(\"Training Loss:\",np.mean(training_loss_batch))\n",
    "        print(\"Validation Loss:\",np.mean(validation_loss_batch))"
   ]
  },
  {
   "cell_type": "code",
   "execution_count": 47,
   "metadata": {},
   "outputs": [
    {
     "name": "stdout",
     "output_type": "stream",
     "text": [
      "180\n",
      "Training Loss: 0.00039700646394610163\n",
      "Validation Loss: 0.0003532861326069883\n",
      "190\n",
      "Training Loss: 0.0003967019753357882\n",
      "Validation Loss: 0.0003525075548128122\n",
      "200\n",
      "Training Loss: 0.0003966664006715557\n",
      "Validation Loss: 0.000352504033200307\n"
     ]
    }
   ],
   "source": [
    "optimizer1 = optim.Adam(model1.parameters(), lr=0.00001)\n",
    "\n",
    "for epoch in range(180,210):\n",
    "    training_loss_batch=[]\n",
    "    validation_loss_batch=[]\n",
    "    for X_train, y_train in train_loader1:\n",
    "        model1.train()\n",
    "        optimizer1.zero_grad()\n",
    "        output,features = model1(X_train)\n",
    "        loss1 = criterion1(output, y_train.reshape(-1,1))\n",
    "        loss1.backward()\n",
    "        optimizer1.step()\n",
    "        training_loss_batch.append(loss1.item())\n",
    "        model1.eval()\n",
    "        validation_loss_batch.append(criterion1(model1(X_test1)[0],y_test1.reshape(-1,1)).item())\n",
    "    validation_loss_model1.append(validation_loss_batch)\n",
    "    training_loss_model1.append(training_loss_batch)\n",
    "    if epoch%10==0:\n",
    "        print(epoch)\n",
    "        print(\"Training Loss:\",np.mean(training_loss_batch))\n",
    "        print(\"Validation Loss:\",np.mean(validation_loss_batch))"
   ]
  },
  {
   "cell_type": "code",
   "execution_count": 48,
   "metadata": {},
   "outputs": [
    {
     "name": "stdout",
     "output_type": "stream",
     "text": [
      "210\n",
      "Training Loss: 0.00039801248281330507\n",
      "Validation Loss: 0.0003534686591004378\n",
      "220\n",
      "Training Loss: 0.00039836232849250184\n",
      "Validation Loss: 0.00035328564266683186\n",
      "230\n",
      "Training Loss: 0.00039792265793551487\n",
      "Validation Loss: 0.0003534061486454756\n"
     ]
    }
   ],
   "source": [
    "optimizer1 = optim.Adam(model1.parameters(), lr=0.0001)\n",
    "\n",
    "for epoch in range(210,240):\n",
    "    training_loss_batch=[]\n",
    "    validation_loss_batch=[]\n",
    "    for X_train, y_train in train_loader1:\n",
    "        model1.train()\n",
    "        optimizer1.zero_grad()\n",
    "        output,features = model1(X_train)\n",
    "        loss1 = criterion1(output, y_train.reshape(-1,1))\n",
    "        loss1.backward()\n",
    "        optimizer1.step()\n",
    "        training_loss_batch.append(loss1.item())\n",
    "        model1.eval()\n",
    "        validation_loss_batch.append(criterion1(model1(X_test1)[0],y_test1.reshape(-1,1)).item())\n",
    "    validation_loss_model1.append(validation_loss_batch)\n",
    "    training_loss_model1.append(training_loss_batch)\n",
    "    if epoch%10==0:\n",
    "        print(epoch)\n",
    "        print(\"Training Loss:\",np.mean(training_loss_batch))\n",
    "        print(\"Validation Loss:\",np.mean(validation_loss_batch))"
   ]
  },
  {
   "cell_type": "code",
   "execution_count": 49,
   "metadata": {},
   "outputs": [],
   "source": [
    "torch.save(model1.state_dict(), \"stores_model_final.pt\")"
   ]
  }
 ],
 "metadata": {
  "kernelspec": {
   "display_name": "Python 3",
   "language": "python",
   "name": "python3"
  },
  "language_info": {
   "codemirror_mode": {
    "name": "ipython",
    "version": 3
   },
   "file_extension": ".py",
   "mimetype": "text/x-python",
   "name": "python",
   "nbconvert_exporter": "python",
   "pygments_lexer": "ipython3",
   "version": "3.5.4"
  }
 },
 "nbformat": 4,
 "nbformat_minor": 2
}
