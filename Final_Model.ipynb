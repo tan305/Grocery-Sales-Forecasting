{
 "cells": [
  {
   "cell_type": "code",
   "execution_count": 1,
   "metadata": {
    "scrolled": true
   },
   "outputs": [
    {
     "name": "stderr",
     "output_type": "stream",
     "text": [
      "Using TensorFlow backend.\n"
     ]
    }
   ],
   "source": [
    "import numpy as np\n",
    "import pandas as pd\n",
    "import matplotlib.pyplot as plt\n",
    "import seaborn as sns\n",
    "import torch\n",
    "import datetime\n",
    "from keras.preprocessing.sequence import pad_sequences\n",
    "from keras.layers import Embedding, Input, LSTM\n",
    "from keras.models import Sequential, Model,load_model\n",
    "from keras.layers import Activation, Dense, Dropout, Embedding, Flatten, Input, Convolution1D, MaxPooling1D, GlobalMaxPooling1D\n",
    "import numpy as np\n",
    "from torch.utils.data import TensorDataset\n",
    "from torch.utils.data import DataLoader\n",
    "from torch import optim\n",
    "from sklearn.preprocessing import MinMaxScaler\n",
    "import torch.nn as nn\n",
    "import datetime\n",
    "import pickle"
   ]
  },
  {
   "cell_type": "code",
   "execution_count": 10,
   "metadata": {},
   "outputs": [],
   "source": [
    "final_data=pd.read_csv(\"final_data.csv\")"
   ]
  },
  {
   "cell_type": "markdown",
   "metadata": {},
   "source": [
    "### Subset"
   ]
  },
  {
   "cell_type": "code",
   "execution_count": 14,
   "metadata": {},
   "outputs": [],
   "source": [
    "y1 = torch.tensor(final_data['unit_sales'].values.astype(np.float32))[:30000]\n",
    "X1 = torch.tensor(final_data.drop('unit_sales', axis = 1).values.astype(np.float32))[:30000] \n",
    "dataset1 = TensorDataset(X1,y1) "
   ]
  },
  {
   "cell_type": "code",
   "execution_count": 15,
   "metadata": {},
   "outputs": [],
   "source": [
    "del final_data"
   ]
  },
  {
   "cell_type": "code",
   "execution_count": 18,
   "metadata": {},
   "outputs": [],
   "source": [
    "train_set1, val_set1 = torch.utils.data.random_split(dataset1, [27000, 3000])\n",
    "train_loader1 = DataLoader(dataset = train_set1, shuffle = True,batch_size=1024)"
   ]
  },
  {
   "cell_type": "code",
   "execution_count": 19,
   "metadata": {},
   "outputs": [],
   "source": [
    "del X1,y1"
   ]
  },
  {
   "cell_type": "code",
   "execution_count": 20,
   "metadata": {},
   "outputs": [],
   "source": [
    "validation_loader1=DataLoader(dataset = val_set1, shuffle = True,batch_size=3000)"
   ]
  },
  {
   "cell_type": "code",
   "execution_count": 21,
   "metadata": {},
   "outputs": [],
   "source": [
    "class FirstNetwork_v1(nn.Module):\n",
    "    def __init__(self,number_of_nodes):\n",
    "        super().__init__()\n",
    "        self.lin1 = nn.Linear(41,number_of_nodes)\n",
    "        self.lin2 = nn.Linear(number_of_nodes, 1)\n",
    "    \n",
    "    def forward(self, X):\n",
    "        a1 = self.lin1(X)\n",
    "        h1 = a1.relu()\n",
    "        a2 = self.lin2(h1)\n",
    "        return a2,a1"
   ]
  },
  {
   "cell_type": "code",
   "execution_count": 22,
   "metadata": {},
   "outputs": [],
   "source": [
    "device = torch.device(\"cuda:0\")"
   ]
  },
  {
   "cell_type": "code",
   "execution_count": 23,
   "metadata": {},
   "outputs": [],
   "source": [
    "all_models_train_loss={}\n",
    "all_models_val_loss={}\n",
    "all_models_time={}"
   ]
  },
  {
   "cell_type": "code",
   "execution_count": 24,
   "metadata": {
    "scrolled": true
   },
   "outputs": [
    {
     "name": "stdout",
     "output_type": "stream",
     "text": [
      "Running Model with 12  nodes\n",
      "0 Times Model Repeated\n",
      "1 Times Model Repeated\n",
      "2 Times Model Repeated\n",
      "3 Times Model Repeated\n",
      "4 Times Model Repeated\n",
      "5 Times Model Repeated\n",
      "6 Times Model Repeated\n",
      "7 Times Model Repeated\n",
      "8 Times Model Repeated\n",
      "9 Times Model Repeated\n",
      "Running Model with 15  nodes\n",
      "0 Times Model Repeated\n",
      "1 Times Model Repeated\n",
      "2 Times Model Repeated\n",
      "3 Times Model Repeated\n",
      "4 Times Model Repeated\n",
      "5 Times Model Repeated\n",
      "6 Times Model Repeated\n",
      "7 Times Model Repeated\n",
      "8 Times Model Repeated\n",
      "9 Times Model Repeated\n",
      "Running Model with 18  nodes\n",
      "0 Times Model Repeated\n",
      "1 Times Model Repeated\n",
      "2 Times Model Repeated\n",
      "3 Times Model Repeated\n",
      "4 Times Model Repeated\n",
      "5 Times Model Repeated\n",
      "6 Times Model Repeated\n",
      "7 Times Model Repeated\n",
      "8 Times Model Repeated\n",
      "9 Times Model Repeated\n",
      "Running Model with 21  nodes\n",
      "0 Times Model Repeated\n",
      "1 Times Model Repeated\n",
      "2 Times Model Repeated\n",
      "3 Times Model Repeated\n",
      "4 Times Model Repeated\n",
      "5 Times Model Repeated\n",
      "6 Times Model Repeated\n",
      "7 Times Model Repeated\n",
      "8 Times Model Repeated\n",
      "9 Times Model Repeated\n",
      "Running Model with 24  nodes\n",
      "0 Times Model Repeated\n",
      "1 Times Model Repeated\n",
      "2 Times Model Repeated\n",
      "3 Times Model Repeated\n",
      "4 Times Model Repeated\n",
      "5 Times Model Repeated\n",
      "6 Times Model Repeated\n",
      "7 Times Model Repeated\n",
      "8 Times Model Repeated\n",
      "9 Times Model Repeated\n"
     ]
    }
   ],
   "source": [
    "for i in range(12,26,3):\n",
    "    print(\"Running Model with \"+str(i),\" nodes\")\n",
    "    all_models_train_loss[i]=[]\n",
    "    all_models_val_loss[i]=[] \n",
    "    all_models_time[i]=[]\n",
    "    for p in range(10):\n",
    "#         torch.manual_seed(np.random.randint(0,1000000,1))\n",
    "#         train_set1, val_set1 = torch.utils.data.random_split(dataset1, [4000,500])\n",
    "#         train_loader1 = DataLoader(dataset = train_set1, shuffle = True,batch_size=16)\n",
    "#         validation_loader1=DataLoader(dataset = val_set1, shuffle = True,batch_size=500)\n",
    "        for c,v in validation_loader1:\n",
    "            X_test1,y_test1=c,v\n",
    "        print(str(p)+\" Times Model Repeated\")\n",
    "        start = torch.cuda.Event(enable_timing=True)\n",
    "        end = torch.cuda.Event(enable_timing=True)\n",
    "        model1=FirstNetwork_v1(number_of_nodes=i).to(device)\n",
    "        criterion1 = nn.MSELoss()\n",
    "        training_loss_model1=[]\n",
    "        validation_loss_model1=[]\n",
    "        time_model1=[]\n",
    "        epochs = 100\n",
    "        optimizer1 = optim.SGD(model1.parameters(), lr=0.01)\n",
    "        for epoch in range(epochs):\n",
    "            training_loss_batch=[]\n",
    "            validation_loss_batch=[]\n",
    "            time_batch=[]\n",
    "            for X_train, y_train in train_loader1:\n",
    "                model1.train()\n",
    "                optimizer1.zero_grad()\n",
    "                X_train,y_train=X_train.to(device),y_train.to(device)\n",
    "                start.record()\n",
    "                output,features = model1(X_train)\n",
    "                loss1 = criterion1(output, y_train.reshape(-1,1))\n",
    "                loss1.backward()\n",
    "                optimizer1.step()\n",
    "                end.record()\n",
    "                training_loss_batch.append(loss1.item())\n",
    "                model1.eval()\n",
    "                validation_loss_batch.append(criterion1(model1(X_test1.to(device))[0],y_test1.to(device).reshape(-1,1)).item())\n",
    "                time_batch.append(start.elapsed_time(end))\n",
    "            training_loss_model1.append(training_loss_batch)\n",
    "            validation_loss_model1.append(validation_loss_batch)\n",
    "            time_model1.append(time_batch)\n",
    "        del model1\n",
    "        torch.cuda.empty_cache()\n",
    "        all_models_val_loss[i].append(validation_loss_model1)\n",
    "        all_models_train_loss[i].append(training_loss_model1)\n",
    "        all_models_time[i].append(time_model1)"
   ]
  },
  {
   "cell_type": "code",
   "execution_count": 25,
   "metadata": {},
   "outputs": [],
   "source": [
    "with open('final_model_train_sub.p', 'wb') as fp:\n",
    "    pickle.dump(all_models_train_loss, fp, protocol=pickle.HIGHEST_PROTOCOL)\n",
    "\n",
    "with open('final_model_val_sub.p', 'wb') as fp:\n",
    "    pickle.dump(all_models_val_loss, fp, protocol=pickle.HIGHEST_PROTOCOL)\n",
    "\n",
    "with open('final_model_time_sub.p', 'wb') as fp:\n",
    "    pickle.dump(all_models_time, fp, protocol=pickle.HIGHEST_PROTOCOL)"
   ]
  },
  {
   "cell_type": "code",
   "execution_count": 26,
   "metadata": {
    "scrolled": true
   },
   "outputs": [
    {
     "name": "stdout",
     "output_type": "stream",
     "text": [
      "12 0.0002664797712727537 0.00011046131129218842\n",
      "15 0.00025275753823397854 0.0001351862376277521\n",
      "18 0.00025875776336761194 7.47801701389607e-05\n",
      "21 0.00031482944991525813 5.4025986649131115e-05\n",
      "24 0.00027724458475993877 7.90549885241888e-05\n"
     ]
    }
   ],
   "source": [
    "for m in sorted(all_models_val_loss.keys()):\n",
    "    print(m,np.mean([min([np.mean(all_models_val_loss[m][k][i]) for i in range(len(all_models_val_loss[m][k]))]) for k in range(len(all_models_val_loss[m]))]),\n",
    "         np.std([min([np.mean(all_models_val_loss[m][k][i]) for i in range(len(all_models_val_loss[m][k]))]) for k in range(len(all_models_val_loss[m]))]))"
   ]
  },
  {
   "cell_type": "code",
   "execution_count": 27,
   "metadata": {},
   "outputs": [],
   "source": [
    "all_models_train_loss={}\n",
    "all_models_val_loss={}\n",
    "all_models_time={}"
   ]
  },
  {
   "cell_type": "code",
   "execution_count": 28,
   "metadata": {
    "scrolled": true
   },
   "outputs": [
    {
     "name": "stdout",
     "output_type": "stream",
     "text": [
      "Running Model with 12  nodes\n",
      "0 Times Model Repeated\n",
      "1 Times Model Repeated\n",
      "2 Times Model Repeated\n",
      "3 Times Model Repeated\n",
      "4 Times Model Repeated\n",
      "5 Times Model Repeated\n",
      "6 Times Model Repeated\n",
      "7 Times Model Repeated\n",
      "8 Times Model Repeated\n",
      "9 Times Model Repeated\n",
      "Running Model with 15  nodes\n",
      "0 Times Model Repeated\n",
      "1 Times Model Repeated\n",
      "2 Times Model Repeated\n",
      "3 Times Model Repeated\n",
      "4 Times Model Repeated\n",
      "5 Times Model Repeated\n",
      "6 Times Model Repeated\n",
      "7 Times Model Repeated\n",
      "8 Times Model Repeated\n",
      "9 Times Model Repeated\n",
      "Running Model with 18  nodes\n",
      "0 Times Model Repeated\n",
      "1 Times Model Repeated\n",
      "2 Times Model Repeated\n",
      "3 Times Model Repeated\n",
      "4 Times Model Repeated\n",
      "5 Times Model Repeated\n",
      "6 Times Model Repeated\n",
      "7 Times Model Repeated\n",
      "8 Times Model Repeated\n",
      "9 Times Model Repeated\n",
      "Running Model with 21  nodes\n",
      "0 Times Model Repeated\n",
      "1 Times Model Repeated\n",
      "2 Times Model Repeated\n",
      "3 Times Model Repeated\n",
      "4 Times Model Repeated\n",
      "5 Times Model Repeated\n",
      "6 Times Model Repeated\n",
      "7 Times Model Repeated\n",
      "8 Times Model Repeated\n",
      "9 Times Model Repeated\n",
      "Running Model with 24  nodes\n",
      "0 Times Model Repeated\n",
      "1 Times Model Repeated\n",
      "2 Times Model Repeated\n",
      "3 Times Model Repeated\n",
      "4 Times Model Repeated\n",
      "5 Times Model Repeated\n",
      "6 Times Model Repeated\n",
      "7 Times Model Repeated\n",
      "8 Times Model Repeated\n",
      "9 Times Model Repeated\n"
     ]
    }
   ],
   "source": [
    "for i in range(12,26,3):\n",
    "    print(\"Running Model with \"+str(i),\" nodes\")\n",
    "    all_models_train_loss[i]=[]\n",
    "    all_models_val_loss[i]=[] \n",
    "    all_models_time[i]=[]\n",
    "    for p in range(10):\n",
    "#         torch.manual_seed(np.random.randint(0,1000000,1))\n",
    "#         train_set1, val_set1 = torch.utils.data.random_split(dataset1, [4000,500])\n",
    "#         train_loader1 = DataLoader(dataset = train_set1, shuffle = True,batch_size=16)\n",
    "#         validation_loader1=DataLoader(dataset = val_set1, shuffle = True,batch_size=500)\n",
    "        for c,v in validation_loader1:\n",
    "            X_test1,y_test1=c,v\n",
    "        print(str(p)+\" Times Model Repeated\")\n",
    "        start = torch.cuda.Event(enable_timing=True)\n",
    "        end = torch.cuda.Event(enable_timing=True)\n",
    "        model1=FirstNetwork_v1(number_of_nodes=i).to(device)\n",
    "        criterion1 = nn.MSELoss()\n",
    "        training_loss_model1=[]\n",
    "        validation_loss_model1=[]\n",
    "        time_model1=[]\n",
    "        epochs = 100\n",
    "        optimizer1 = optim.Adam(model1.parameters(), lr=0.01)\n",
    "        for epoch in range(epochs):\n",
    "            training_loss_batch=[]\n",
    "            validation_loss_batch=[]\n",
    "            time_batch=[]\n",
    "            for X_train, y_train in train_loader1:\n",
    "                model1.train()\n",
    "                optimizer1.zero_grad()\n",
    "                X_train,y_train=X_train.to(device),y_train.to(device)\n",
    "                start.record()\n",
    "                output,features = model1(X_train)\n",
    "                loss1 = criterion1(output, y_train.reshape(-1,1))\n",
    "                loss1.backward()\n",
    "                optimizer1.step()\n",
    "                end.record()\n",
    "                training_loss_batch.append(loss1.item())\n",
    "                model1.eval()\n",
    "                validation_loss_batch.append(criterion1(model1(X_test1.to(device))[0],y_test1.to(device).reshape(-1,1)).item())\n",
    "                time_batch.append(start.elapsed_time(end))\n",
    "            training_loss_model1.append(training_loss_batch)\n",
    "            validation_loss_model1.append(validation_loss_batch)\n",
    "            time_model1.append(time_batch)\n",
    "        del model1\n",
    "        torch.cuda.empty_cache()\n",
    "        all_models_val_loss[i].append(validation_loss_model1)\n",
    "        all_models_train_loss[i].append(training_loss_model1)\n",
    "        all_models_time[i].append(time_model1)"
   ]
  },
  {
   "cell_type": "code",
   "execution_count": 29,
   "metadata": {},
   "outputs": [],
   "source": [
    "with open('final_model_train_sub1.p', 'wb') as fp:\n",
    "    pickle.dump(all_models_train_loss, fp, protocol=pickle.HIGHEST_PROTOCOL)\n",
    "\n",
    "with open('final_model_val_sub1.p', 'wb') as fp:\n",
    "    pickle.dump(all_models_val_loss, fp, protocol=pickle.HIGHEST_PROTOCOL)\n",
    "\n",
    "with open('final_model_time_sub1.p', 'wb') as fp:\n",
    "    pickle.dump(all_models_time, fp, protocol=pickle.HIGHEST_PROTOCOL)"
   ]
  },
  {
   "cell_type": "code",
   "execution_count": 30,
   "metadata": {},
   "outputs": [
    {
     "name": "stdout",
     "output_type": "stream",
     "text": [
      "12 1.7528342895847915e-05 1.1127816331484554e-05\n",
      "15 1.282508579202436e-05 3.7273184601419584e-06\n",
      "18 1.5731909570604333e-05 8.631606734575844e-06\n",
      "21 1.1923776559409885e-05 2.5369203397385725e-06\n",
      "24 1.274036764732079e-05 2.9490904225536445e-06\n"
     ]
    }
   ],
   "source": [
    "for m in sorted(all_models_val_loss.keys()):\n",
    "    print(m,np.mean([min([np.mean(all_models_val_loss[m][k][i]) for i in range(len(all_models_val_loss[m][k]))]) for k in range(len(all_models_val_loss[m]))]),\n",
    "         np.std([min([np.mean(all_models_val_loss[m][k][i]) for i in range(len(all_models_val_loss[m][k]))]) for k in range(len(all_models_val_loss[m]))]))"
   ]
  },
  {
   "cell_type": "code",
   "execution_count": 31,
   "metadata": {},
   "outputs": [],
   "source": [
    "class FirstNetwork_v1(nn.Module):\n",
    "    def __init__(self,number_of_nodes,number_of_nodes_2):\n",
    "        super().__init__()\n",
    "        self.lin1 = nn.Linear(41,number_of_nodes)\n",
    "        self.lin2 = nn.Linear(number_of_nodes, number_of_nodes_2)\n",
    "        self.lin3 = nn.Linear(number_of_nodes_2, 1)\n",
    "    def forward(self, X):\n",
    "        a1 = self.lin1(X)\n",
    "        h1 = a1.relu()\n",
    "        a2 = self.lin2(h1)\n",
    "        h2 = a2.relu()\n",
    "        a3 = self.lin3(h2)\n",
    "        return a3"
   ]
  },
  {
   "cell_type": "code",
   "execution_count": 32,
   "metadata": {},
   "outputs": [],
   "source": [
    "all_models_train_loss={}\n",
    "all_models_val_loss={}\n",
    "all_models_time={}"
   ]
  },
  {
   "cell_type": "code",
   "execution_count": 33,
   "metadata": {
    "scrolled": true
   },
   "outputs": [
    {
     "name": "stdout",
     "output_type": "stream",
     "text": [
      "Running Model with 12  nodes  and  4  nodes\n",
      "0 Times Model Repeated\n",
      "1 Times Model Repeated\n",
      "2 Times Model Repeated\n",
      "3 Times Model Repeated\n",
      "4 Times Model Repeated\n",
      "5 Times Model Repeated\n",
      "6 Times Model Repeated\n",
      "7 Times Model Repeated\n",
      "8 Times Model Repeated\n",
      "9 Times Model Repeated\n",
      "Running Model with 12  nodes  and  5  nodes\n",
      "0 Times Model Repeated\n",
      "1 Times Model Repeated\n",
      "2 Times Model Repeated\n",
      "3 Times Model Repeated\n",
      "4 Times Model Repeated\n",
      "5 Times Model Repeated\n",
      "6 Times Model Repeated\n",
      "7 Times Model Repeated\n",
      "8 Times Model Repeated\n",
      "9 Times Model Repeated\n",
      "Running Model with 12  nodes  and  6  nodes\n",
      "0 Times Model Repeated\n",
      "1 Times Model Repeated\n",
      "2 Times Model Repeated\n",
      "3 Times Model Repeated\n",
      "4 Times Model Repeated\n",
      "5 Times Model Repeated\n",
      "6 Times Model Repeated\n",
      "7 Times Model Repeated\n",
      "8 Times Model Repeated\n",
      "9 Times Model Repeated\n",
      "Running Model with 12  nodes  and  7  nodes\n",
      "0 Times Model Repeated\n",
      "1 Times Model Repeated\n",
      "2 Times Model Repeated\n",
      "3 Times Model Repeated\n",
      "4 Times Model Repeated\n",
      "5 Times Model Repeated\n",
      "6 Times Model Repeated\n",
      "7 Times Model Repeated\n",
      "8 Times Model Repeated\n",
      "9 Times Model Repeated\n",
      "Running Model with 12  nodes  and  8  nodes\n",
      "0 Times Model Repeated\n",
      "1 Times Model Repeated\n",
      "2 Times Model Repeated\n",
      "3 Times Model Repeated\n",
      "4 Times Model Repeated\n",
      "5 Times Model Repeated\n",
      "6 Times Model Repeated\n",
      "7 Times Model Repeated\n",
      "8 Times Model Repeated\n",
      "9 Times Model Repeated\n",
      "Running Model with 15  nodes  and  4  nodes\n",
      "0 Times Model Repeated\n",
      "1 Times Model Repeated\n",
      "2 Times Model Repeated\n",
      "3 Times Model Repeated\n",
      "4 Times Model Repeated\n",
      "5 Times Model Repeated\n",
      "6 Times Model Repeated\n",
      "7 Times Model Repeated\n",
      "8 Times Model Repeated\n",
      "9 Times Model Repeated\n",
      "Running Model with 15  nodes  and  5  nodes\n",
      "0 Times Model Repeated\n",
      "1 Times Model Repeated\n",
      "2 Times Model Repeated\n",
      "3 Times Model Repeated\n",
      "4 Times Model Repeated\n",
      "5 Times Model Repeated\n",
      "6 Times Model Repeated\n",
      "7 Times Model Repeated\n",
      "8 Times Model Repeated\n",
      "9 Times Model Repeated\n",
      "Running Model with 15  nodes  and  6  nodes\n",
      "0 Times Model Repeated\n",
      "1 Times Model Repeated\n",
      "2 Times Model Repeated\n",
      "3 Times Model Repeated\n",
      "4 Times Model Repeated\n",
      "5 Times Model Repeated\n",
      "6 Times Model Repeated\n",
      "7 Times Model Repeated\n",
      "8 Times Model Repeated\n",
      "9 Times Model Repeated\n",
      "Running Model with 15  nodes  and  7  nodes\n",
      "0 Times Model Repeated\n",
      "1 Times Model Repeated\n",
      "2 Times Model Repeated\n",
      "3 Times Model Repeated\n",
      "4 Times Model Repeated\n",
      "5 Times Model Repeated\n",
      "6 Times Model Repeated\n",
      "7 Times Model Repeated\n",
      "8 Times Model Repeated\n",
      "9 Times Model Repeated\n",
      "Running Model with 15  nodes  and  8  nodes\n",
      "0 Times Model Repeated\n",
      "1 Times Model Repeated\n",
      "2 Times Model Repeated\n",
      "3 Times Model Repeated\n",
      "4 Times Model Repeated\n",
      "5 Times Model Repeated\n",
      "6 Times Model Repeated\n",
      "7 Times Model Repeated\n",
      "8 Times Model Repeated\n",
      "9 Times Model Repeated\n",
      "Running Model with 18  nodes  and  4  nodes\n",
      "0 Times Model Repeated\n",
      "1 Times Model Repeated\n",
      "2 Times Model Repeated\n",
      "3 Times Model Repeated\n",
      "4 Times Model Repeated\n",
      "5 Times Model Repeated\n",
      "6 Times Model Repeated\n",
      "7 Times Model Repeated\n",
      "8 Times Model Repeated\n",
      "9 Times Model Repeated\n",
      "Running Model with 18  nodes  and  5  nodes\n",
      "0 Times Model Repeated\n",
      "1 Times Model Repeated\n",
      "2 Times Model Repeated\n",
      "3 Times Model Repeated\n",
      "4 Times Model Repeated\n",
      "5 Times Model Repeated\n",
      "6 Times Model Repeated\n",
      "7 Times Model Repeated\n",
      "8 Times Model Repeated\n",
      "9 Times Model Repeated\n",
      "Running Model with 18  nodes  and  6  nodes\n",
      "0 Times Model Repeated\n",
      "1 Times Model Repeated\n",
      "2 Times Model Repeated\n",
      "3 Times Model Repeated\n",
      "4 Times Model Repeated\n",
      "5 Times Model Repeated\n",
      "6 Times Model Repeated\n",
      "7 Times Model Repeated\n",
      "8 Times Model Repeated\n",
      "9 Times Model Repeated\n",
      "Running Model with 18  nodes  and  7  nodes\n",
      "0 Times Model Repeated\n",
      "1 Times Model Repeated\n",
      "2 Times Model Repeated\n",
      "3 Times Model Repeated\n",
      "4 Times Model Repeated\n",
      "5 Times Model Repeated\n",
      "6 Times Model Repeated\n",
      "7 Times Model Repeated\n",
      "8 Times Model Repeated\n",
      "9 Times Model Repeated\n",
      "Running Model with 18  nodes  and  8  nodes\n",
      "0 Times Model Repeated\n",
      "1 Times Model Repeated\n",
      "2 Times Model Repeated\n",
      "3 Times Model Repeated\n",
      "4 Times Model Repeated\n",
      "5 Times Model Repeated\n",
      "6 Times Model Repeated\n",
      "7 Times Model Repeated\n",
      "8 Times Model Repeated\n",
      "9 Times Model Repeated\n",
      "Running Model with 21  nodes  and  4  nodes\n",
      "0 Times Model Repeated\n",
      "1 Times Model Repeated\n",
      "2 Times Model Repeated\n",
      "3 Times Model Repeated\n",
      "4 Times Model Repeated\n",
      "5 Times Model Repeated\n",
      "6 Times Model Repeated\n",
      "7 Times Model Repeated\n",
      "8 Times Model Repeated\n",
      "9 Times Model Repeated\n",
      "Running Model with 21  nodes  and  5  nodes\n",
      "0 Times Model Repeated\n",
      "1 Times Model Repeated\n",
      "2 Times Model Repeated\n",
      "3 Times Model Repeated\n",
      "4 Times Model Repeated\n",
      "5 Times Model Repeated\n",
      "6 Times Model Repeated\n",
      "7 Times Model Repeated\n",
      "8 Times Model Repeated\n",
      "9 Times Model Repeated\n",
      "Running Model with 21  nodes  and  6  nodes\n",
      "0 Times Model Repeated\n",
      "1 Times Model Repeated\n",
      "2 Times Model Repeated\n",
      "3 Times Model Repeated\n",
      "4 Times Model Repeated\n",
      "5 Times Model Repeated\n",
      "6 Times Model Repeated\n",
      "7 Times Model Repeated\n",
      "8 Times Model Repeated\n",
      "9 Times Model Repeated\n",
      "Running Model with 21  nodes  and  7  nodes\n",
      "0 Times Model Repeated\n",
      "1 Times Model Repeated\n",
      "2 Times Model Repeated\n",
      "3 Times Model Repeated\n",
      "4 Times Model Repeated\n",
      "5 Times Model Repeated\n",
      "6 Times Model Repeated\n",
      "7 Times Model Repeated\n",
      "8 Times Model Repeated\n",
      "9 Times Model Repeated\n",
      "Running Model with 21  nodes  and  8  nodes\n",
      "0 Times Model Repeated\n",
      "1 Times Model Repeated\n",
      "2 Times Model Repeated\n",
      "3 Times Model Repeated\n",
      "4 Times Model Repeated\n",
      "5 Times Model Repeated\n",
      "6 Times Model Repeated\n",
      "7 Times Model Repeated\n",
      "8 Times Model Repeated\n",
      "9 Times Model Repeated\n",
      "Running Model with 24  nodes  and  4  nodes\n",
      "0 Times Model Repeated\n",
      "1 Times Model Repeated\n",
      "2 Times Model Repeated\n",
      "3 Times Model Repeated\n",
      "4 Times Model Repeated\n",
      "5 Times Model Repeated\n",
      "6 Times Model Repeated\n",
      "7 Times Model Repeated\n",
      "8 Times Model Repeated\n",
      "9 Times Model Repeated\n",
      "Running Model with 24  nodes  and  5  nodes\n",
      "0 Times Model Repeated\n",
      "1 Times Model Repeated\n",
      "2 Times Model Repeated\n",
      "3 Times Model Repeated\n",
      "4 Times Model Repeated\n",
      "5 Times Model Repeated\n",
      "6 Times Model Repeated\n",
      "7 Times Model Repeated\n",
      "8 Times Model Repeated\n",
      "9 Times Model Repeated\n",
      "Running Model with 24  nodes  and  6  nodes\n",
      "0 Times Model Repeated\n",
      "1 Times Model Repeated\n",
      "2 Times Model Repeated\n",
      "3 Times Model Repeated\n",
      "4 Times Model Repeated\n",
      "5 Times Model Repeated\n",
      "6 Times Model Repeated\n",
      "7 Times Model Repeated\n",
      "8 Times Model Repeated\n",
      "9 Times Model Repeated\n",
      "Running Model with 24  nodes  and  7  nodes\n",
      "0 Times Model Repeated\n",
      "1 Times Model Repeated\n",
      "2 Times Model Repeated\n",
      "3 Times Model Repeated\n",
      "4 Times Model Repeated\n",
      "5 Times Model Repeated\n",
      "6 Times Model Repeated\n",
      "7 Times Model Repeated\n",
      "8 Times Model Repeated\n",
      "9 Times Model Repeated\n",
      "Running Model with 24  nodes  and  8  nodes\n",
      "0 Times Model Repeated\n",
      "1 Times Model Repeated\n",
      "2 Times Model Repeated\n",
      "3 Times Model Repeated\n",
      "4 Times Model Repeated\n",
      "5 Times Model Repeated\n",
      "6 Times Model Repeated\n",
      "7 Times Model Repeated\n",
      "8 Times Model Repeated\n",
      "9 Times Model Repeated\n"
     ]
    }
   ],
   "source": [
    "for i in range(12,26,3):\n",
    "    for l in range(4,9):\n",
    "        print(\"Running Model with \"+str(i),\" nodes\",\" and \",str(l),\" nodes\")\n",
    "        all_models_train_loss[i]=[]\n",
    "        all_models_val_loss[i]=[] \n",
    "        all_models_time[i]=[]\n",
    "        for p in range(10):\n",
    "    #         torch.manual_seed(np.random.randint(0,1000000,1))\n",
    "    #         train_set1, val_set1 = torch.utils.data.random_split(dataset1, [4000,500])\n",
    "    #         train_loader1 = DataLoader(dataset = train_set1, shuffle = True,batch_size=16)\n",
    "    #         validation_loader1=DataLoader(dataset = val_set1, shuffle = True,batch_size=500)\n",
    "            for c,v in validation_loader1:\n",
    "                X_test1,y_test1=c,v\n",
    "            print(str(p)+\" Times Model Repeated\")\n",
    "            start = torch.cuda.Event(enable_timing=True)\n",
    "            end = torch.cuda.Event(enable_timing=True)\n",
    "            model1=FirstNetwork_v1(number_of_nodes=i,number_of_nodes_2=l).to(device)\n",
    "            criterion1 = nn.MSELoss()\n",
    "            training_loss_model1=[]\n",
    "            validation_loss_model1=[]\n",
    "            time_model1=[]\n",
    "            epochs = 100\n",
    "            optimizer1 = optim.Adam(model1.parameters(), lr=0.01)\n",
    "            for epoch in range(epochs):\n",
    "                training_loss_batch=[]\n",
    "                validation_loss_batch=[]\n",
    "                time_batch=[]\n",
    "                for X_train, y_train in train_loader1:\n",
    "                    model1.train()\n",
    "                    optimizer1.zero_grad()\n",
    "                    X_train,y_train=X_train.to(device),y_train.to(device)\n",
    "                    start.record()\n",
    "                    output = model1(X_train)\n",
    "                    loss1 = criterion1(output, y_train.reshape(-1,1))\n",
    "                    loss1.backward()\n",
    "                    optimizer1.step()\n",
    "                    end.record()\n",
    "                    training_loss_batch.append(loss1.item())\n",
    "                    model1.eval()\n",
    "                    validation_loss_batch.append(criterion1(model1(X_test1.to(device)),y_test1.to(device).reshape(-1,1)).item())\n",
    "                    time_batch.append(start.elapsed_time(end))\n",
    "                training_loss_model1.append(training_loss_batch)\n",
    "                validation_loss_model1.append(validation_loss_batch)\n",
    "                time_model1.append(time_batch)\n",
    "            del model1\n",
    "            torch.cuda.empty_cache()\n",
    "            all_models_val_loss[i].append(validation_loss_model1)\n",
    "            all_models_train_loss[i].append(training_loss_model1)\n",
    "            all_models_time[i].append(time_model1)"
   ]
  },
  {
   "cell_type": "code",
   "execution_count": 34,
   "metadata": {},
   "outputs": [],
   "source": [
    "with open('final_model_train_sub2.p', 'wb') as fp:\n",
    "    pickle.dump(all_models_train_loss, fp, protocol=pickle.HIGHEST_PROTOCOL)\n",
    "\n",
    "with open('final_model_val_sub2.p', 'wb') as fp:\n",
    "    pickle.dump(all_models_val_loss, fp, protocol=pickle.HIGHEST_PROTOCOL)\n",
    "\n",
    "with open('final_model_time_sub2.p', 'wb') as fp:\n",
    "    pickle.dump(all_models_time, fp, protocol=pickle.HIGHEST_PROTOCOL)"
   ]
  },
  {
   "cell_type": "code",
   "execution_count": 35,
   "metadata": {},
   "outputs": [
    {
     "name": "stdout",
     "output_type": "stream",
     "text": [
      "12 1.2264202582122784e-05 9.574286051866922e-06\n",
      "15 1.0837473923351758e-05 2.8824547913123857e-06\n",
      "18 1.0129264652884254e-05 9.93305796116239e-06\n",
      "21 7.200872945152999e-06 2.635743846813195e-06\n",
      "24 1.3908964343432604e-05 1.2989153766892294e-05\n"
     ]
    }
   ],
   "source": [
    "for m in sorted(all_models_val_loss.keys()):\n",
    "    print(m,np.mean([min([np.mean(all_models_val_loss[m][k][i]) for i in range(len(all_models_val_loss[m][k]))]) for k in range(len(all_models_val_loss[m]))]),\n",
    "         np.std([min([np.mean(all_models_val_loss[m][k][i]) for i in range(len(all_models_val_loss[m][k]))]) for k in range(len(all_models_val_loss[m]))]))"
   ]
  },
  {
   "cell_type": "code",
   "execution_count": 41,
   "metadata": {},
   "outputs": [],
   "source": [
    "final_data=pd.read_csv(\"final_data.csv\")"
   ]
  },
  {
   "cell_type": "code",
   "execution_count": 42,
   "metadata": {},
   "outputs": [],
   "source": [
    "y1 = torch.tensor(final_data['unit_sales'].values.astype(np.float32))\n",
    "X1 = torch.tensor(final_data.drop('unit_sales', axis = 1).values.astype(np.float32))\n",
    "dataset1 = TensorDataset(X1,y1) "
   ]
  },
  {
   "cell_type": "code",
   "execution_count": 43,
   "metadata": {},
   "outputs": [],
   "source": [
    "del final_data"
   ]
  },
  {
   "cell_type": "code",
   "execution_count": 44,
   "metadata": {},
   "outputs": [],
   "source": [
    "train_set1, val_set1 = torch.utils.data.random_split(dataset1, [1639252, 409813])\n",
    "train_loader1 = DataLoader(dataset = train_set1, shuffle = True,batch_size=2048)"
   ]
  },
  {
   "cell_type": "code",
   "execution_count": 45,
   "metadata": {},
   "outputs": [],
   "source": [
    "del X1,y1"
   ]
  },
  {
   "cell_type": "code",
   "execution_count": 46,
   "metadata": {},
   "outputs": [],
   "source": [
    "validation_loader1=DataLoader(dataset = val_set1, shuffle = True,batch_size=409813)"
   ]
  },
  {
   "cell_type": "code",
   "execution_count": 47,
   "metadata": {},
   "outputs": [],
   "source": [
    "for i,j in validation_loader1:\n",
    "    X_test1,y_test1=i,j"
   ]
  },
  {
   "cell_type": "code",
   "execution_count": 51,
   "metadata": {},
   "outputs": [],
   "source": [
    "class FinalNetwork(nn.Module):\n",
    "    def __init__(self):\n",
    "        super().__init__()\n",
    "        self.lin1 = nn.Linear(41,21)\n",
    "        self.lin2 = nn.Linear(21, 6)\n",
    "        self.lin3 = nn.Linear(6, 1)\n",
    "    def forward(self, X):\n",
    "        a1 = self.lin1(X)\n",
    "        h1 = a1.relu()\n",
    "        a2 = self.lin2(h1)\n",
    "        h2 = a2.relu()\n",
    "        a3 = self.lin3(h2)\n",
    "        return a3"
   ]
  },
  {
   "cell_type": "code",
   "execution_count": 52,
   "metadata": {},
   "outputs": [],
   "source": [
    "model1=FinalNetwork()"
   ]
  },
  {
   "cell_type": "code",
   "execution_count": 53,
   "metadata": {},
   "outputs": [
    {
     "name": "stdout",
     "output_type": "stream",
     "text": [
      "0\n",
      "Training Loss: 0.00020114964839611436\n",
      "Validation Loss: 0.00020166045030694586\n",
      "5\n",
      "Training Loss: 1.1606622843174499e-05\n",
      "Validation Loss: 1.3721400024591725e-05\n",
      "10\n",
      "Training Loss: 1.0520595973157902e-05\n",
      "Validation Loss: 1.2614817124914327e-05\n",
      "15\n",
      "Training Loss: 9.305804758766865e-06\n",
      "Validation Loss: 1.1409669429886843e-05\n",
      "20\n",
      "Training Loss: 8.997427431062846e-06\n",
      "Validation Loss: 1.109272219078723e-05\n",
      "25\n",
      "Training Loss: 8.747127816668502e-06\n",
      "Validation Loss: 1.0818224904966308e-05\n",
      "30\n",
      "Training Loss: 8.482789001342387e-06\n",
      "Validation Loss: 1.0547141995103378e-05\n",
      "35\n",
      "Training Loss: 8.58757622107818e-06\n",
      "Validation Loss: 1.0615576569678175e-05\n",
      "40\n",
      "Training Loss: 8.398729185162633e-06\n",
      "Validation Loss: 1.0451243892720448e-05\n",
      "45\n",
      "Training Loss: 8.532586451203653e-06\n",
      "Validation Loss: 1.048043553540159e-05\n",
      "50\n",
      "Training Loss: 8.34106225149353e-06\n",
      "Validation Loss: 1.0384936956668778e-05\n",
      "55\n",
      "Training Loss: 8.4767153148232e-06\n",
      "Validation Loss: 1.0512080231766343e-05\n"
     ]
    }
   ],
   "source": [
    "criterion1 = nn.MSELoss()\n",
    "\n",
    "training_loss_model1=[]\n",
    "validation_loss_model1=[]\n",
    "\n",
    "epochs = 60\n",
    "optimizer1 = optim.Adam(model1.parameters(), lr=0.01)\n",
    "\n",
    "for epoch in range(epochs):\n",
    "    training_loss_batch=[]\n",
    "    validation_loss_batch=[]\n",
    "    for X_train, y_train in train_loader1:\n",
    "        optimizer1.zero_grad()\n",
    "        output = model1(X_train)\n",
    "        loss1 = criterion1(output, y_train.reshape(-1,1))\n",
    "        loss1.backward()\n",
    "        optimizer1.step()\n",
    "        training_loss_batch.append(loss1.item())\n",
    "        validation_loss_batch.append(criterion1(model1(X_test1),y_test1.reshape(-1,1)).item())\n",
    "    validation_loss_model1.append(validation_loss_batch)\n",
    "    training_loss_model1.append(training_loss_batch)\n",
    "    if epoch%5==0:\n",
    "        print(epoch)\n",
    "        print(\"Training Loss:\",np.mean(training_loss_batch))\n",
    "        print(\"Validation Loss:\",np.mean(validation_loss_batch))"
   ]
  },
  {
   "cell_type": "code",
   "execution_count": 54,
   "metadata": {},
   "outputs": [
    {
     "name": "stdout",
     "output_type": "stream",
     "text": [
      "60\n",
      "Training Loss: 7.405512128065715e-06\n",
      "Validation Loss: 9.45254499114317e-06\n",
      "65\n",
      "Training Loss: 7.338938721137054e-06\n",
      "Validation Loss: 9.378879767200998e-06\n",
      "70\n",
      "Training Loss: 7.324215328403721e-06\n",
      "Validation Loss: 9.366775114866007e-06\n",
      "75\n",
      "Training Loss: 7.314189619155491e-06\n",
      "Validation Loss: 9.36452101456772e-06\n",
      "80\n",
      "Training Loss: 7.313068422814007e-06\n",
      "Validation Loss: 9.359192068239261e-06\n",
      "85\n",
      "Training Loss: 7.316435161006443e-06\n",
      "Validation Loss: 9.353386821465747e-06\n",
      "90\n",
      "Training Loss: 7.298885537331782e-06\n",
      "Validation Loss: 9.341358682501509e-06\n",
      "95\n",
      "Training Loss: 7.294520305385028e-06\n",
      "Validation Loss: 9.336034348367155e-06\n"
     ]
    }
   ],
   "source": [
    "optimizer1 = optim.Adam(model1.parameters(), lr=0.001)\n",
    "for epoch in range(60,100):\n",
    "    training_loss_batch=[]\n",
    "    validation_loss_batch=[]\n",
    "    for X_train, y_train in train_loader1:\n",
    "        model1.train()\n",
    "        optimizer1.zero_grad()\n",
    "        output = model1(X_train)\n",
    "        loss1 = criterion1(output, y_train.reshape(-1,1))\n",
    "        loss1.backward()\n",
    "        optimizer1.step()\n",
    "        training_loss_batch.append(loss1.item())\n",
    "        model1.eval()\n",
    "        validation_loss_batch.append(criterion1(model1(X_test1),y_test1.reshape(-1,1)).item())\n",
    "    validation_loss_model1.append(validation_loss_batch)\n",
    "    training_loss_model1.append(training_loss_batch)\n",
    "    if epoch%5==0:\n",
    "        print(epoch)\n",
    "        print(\"Training Loss:\",np.mean(training_loss_batch))\n",
    "        print(\"Validation Loss:\",np.mean(validation_loss_batch))"
   ]
  },
  {
   "cell_type": "code",
   "execution_count": 55,
   "metadata": {},
   "outputs": [
    {
     "name": "stdout",
     "output_type": "stream",
     "text": [
      "100\n",
      "Training Loss: 7.184197650811588e-06\n",
      "Validation Loss: 9.223837550235656e-06\n",
      "105\n",
      "Training Loss: 7.172635707647306e-06\n",
      "Validation Loss: 9.221143921010313e-06\n",
      "110\n",
      "Training Loss: 7.18031457709162e-06\n",
      "Validation Loss: 9.222729691446625e-06\n",
      "115\n",
      "Training Loss: 7.169062952724768e-06\n",
      "Validation Loss: 9.221078060422696e-06\n",
      "120\n",
      "Training Loss: 7.1686239824386515e-06\n",
      "Validation Loss: 9.22237945196321e-06\n",
      "125\n",
      "Training Loss: 7.169421441529507e-06\n",
      "Validation Loss: 9.219176990541625e-06\n",
      "130\n",
      "Training Loss: 7.171811989025904e-06\n",
      "Validation Loss: 9.22115966741796e-06\n",
      "135\n",
      "Training Loss: 7.167065983383318e-06\n",
      "Validation Loss: 9.21581434791397e-06\n"
     ]
    }
   ],
   "source": [
    "optimizer1 = optim.Adam(model1.parameters(), lr=0.0001)\n",
    "for epoch in range(100,140):\n",
    "    training_loss_batch=[]\n",
    "    validation_loss_batch=[]\n",
    "    for X_train, y_train in train_loader1:\n",
    "        model1.train()\n",
    "        optimizer1.zero_grad()\n",
    "        output = model1(X_train)\n",
    "        loss1 = criterion1(output, y_train.reshape(-1,1))\n",
    "        loss1.backward()\n",
    "        optimizer1.step()\n",
    "        training_loss_batch.append(loss1.item())\n",
    "        model1.eval()\n",
    "        validation_loss_batch.append(criterion1(model1(X_test1),y_test1.reshape(-1,1)).item())\n",
    "    validation_loss_model1.append(validation_loss_batch)\n",
    "    training_loss_model1.append(training_loss_batch)\n",
    "    if epoch%5==0:\n",
    "        print(epoch)\n",
    "        print(\"Training Loss:\",np.mean(training_loss_batch))\n",
    "        print(\"Validation Loss:\",np.mean(validation_loss_batch))"
   ]
  },
  {
   "cell_type": "code",
   "execution_count": 56,
   "metadata": {},
   "outputs": [
    {
     "data": {
      "image/png": "[encoded data removed]",
      "text/plain": [
       "<matplotlib.figure.Figure at 0x27d57f40ba8>"
      ]
     },
     "metadata": {},
     "output_type": "display_data"
    }
   ],
   "source": [
    "plt.figure(figsize=(20,8))\n",
    "plt.plot(np.arange(len([np.mean(i) for i in training_loss_model1])),[np.mean(i) for i in training_loss_model1],'-g', label='training_loss')\n",
    "plt.plot(np.arange(len([np.mean(i) for i in validation_loss_model1])),[np.mean(i) for i in validation_loss_model1],'-r', label='validation_loss')\n",
    "plt.xlabel(\"Number of Epochs\")\n",
    "plt.ylabel(\"MSE Loss\")\n",
    "plt.title( \"MSE vs Epochs(Plain Backpropagation model)\")\n",
    "plt.legend();"
   ]
  },
  {
   "cell_type": "code",
   "execution_count": 57,
   "metadata": {},
   "outputs": [
    {
     "name": "stdout",
     "output_type": "stream",
     "text": [
      "Skipping first 10 epochs\n"
     ]
    },
    {
     "data": {
      "image/png": "[encoded data removed]",
      "text/plain": [
       "<matplotlib.figure.Figure at 0x27d1729ce80>"
      ]
     },
     "metadata": {},
     "output_type": "display_data"
    }
   ],
   "source": [
    "plt.figure(figsize=(20,8))\n",
    "plt.plot(np.arange(len([np.mean(i) for i in training_loss_model1][10:])),[np.mean(i) for i in training_loss_model1][10:],'-g', label='training_loss')\n",
    "plt.plot(np.arange(len([np.mean(i) for i in validation_loss_model1][10:])),[np.mean(i) for i in validation_loss_model1][10:],'-r', label='validation_loss')\n",
    "plt.xlabel(\"Number of epochs\")\n",
    "plt.ylabel(\"MSE Loss\")\n",
    "plt.title( \"MSE vs Epochs(Plain Backpropagation model)\")\n",
    "plt.legend();\n",
    "print(\"Skipping first 10 epochs\")"
   ]
  },
  {
   "cell_type": "code",
   "execution_count": 58,
   "metadata": {},
   "outputs": [
    {
     "data": {
      "text/plain": [
       "9.204271009366494e-06"
      ]
     },
     "execution_count": 58,
     "metadata": {},
     "output_type": "execute_result"
    }
   ],
   "source": [
    "min(validation_loss_batch)"
   ]
  },
  {
   "cell_type": "code",
   "execution_count": 59,
   "metadata": {},
   "outputs": [],
   "source": [
    "torch.save(model1.state_dict(), \"combined_model_final.pt\")"
   ]
  },
  {
   "cell_type": "code",
   "execution_count": null,
   "metadata": {},
   "outputs": [],
   "source": []
  }
 ],
 "metadata": {
  "kernelspec": {
   "display_name": "Python 3",
   "language": "python",
   "name": "python3"
  },
  "language_info": {
   "codemirror_mode": {
    "name": "ipython",
    "version": 3
   },
   "file_extension": ".py",
   "mimetype": "text/x-python",
   "name": "python",
   "nbconvert_exporter": "python",
   "pygments_lexer": "ipython3",
   "version": "3.5.4"
  }
 },
 "nbformat": 4,
 "nbformat_minor": 1
}
