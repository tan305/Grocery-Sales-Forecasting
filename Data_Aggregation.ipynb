{
 "cells": [
  {
   "cell_type": "code",
   "execution_count": 1,
   "metadata": {
    "scrolled": true
   },
   "outputs": [
    {
     "name": "stderr",
     "output_type": "stream",
     "text": [
      "Using TensorFlow backend.\n"
     ]
    }
   ],
   "source": [
    "import numpy as np\n",
    "import pandas as pd\n",
    "import matplotlib.pyplot as plt\n",
    "import seaborn as sns\n",
    "import torch\n",
    "import datetime\n",
    "from keras.preprocessing.sequence import pad_sequences\n",
    "from keras.layers import Embedding, Input, LSTM\n",
    "from keras.models import Sequential, Model,load_model\n",
    "from keras.layers import Activation, Dense, Dropout, Embedding, Flatten, Input, Convolution1D, MaxPooling1D, GlobalMaxPooling1D\n",
    "import numpy as np\n",
    "from torch.utils.data import TensorDataset\n",
    "from torch.utils.data import DataLoader\n",
    "from torch import optim\n",
    "from sklearn.preprocessing import MinMaxScaler\n",
    "import torch.nn as nn\n",
    "import datetime"
   ]
  },
  {
   "cell_type": "code",
   "execution_count": null,
   "metadata": {},
   "outputs": [
    {
     "name": "stderr",
     "output_type": "stream",
     "text": [
      "D:\\Anaconda\\envs\\tensorflow\\lib\\site-packages\\IPython\\core\\interactiveshell.py:2785: DtypeWarning: Columns (5) have mixed types. Specify dtype option on import or set low_memory=False.\n",
      "  interactivity=interactivity, compiler=compiler, result=result)\n"
     ]
    }
   ],
   "source": [
    "data=pd.read_csv(\"train.csv\")"
   ]
  },
  {
   "cell_type": "code",
   "execution_count": 3,
   "metadata": {},
   "outputs": [],
   "source": [
    "store_data=pd.read_csv(\"stores.csv\")\n",
    "items_data=pd.read_csv(\"items.csv\")\n",
    "transactions_data=pd.read_csv(\"transactions.csv\")\n",
    "holiday_data=pd.read_csv(\"holidays_events.csv\")"
   ]
  },
  {
   "cell_type": "code",
   "execution_count": 4,
   "metadata": {
    "collapsed": true
   },
   "outputs": [],
   "source": [
    "reg_dict = {'El Oro': 'Coast','Esmeraldas': 'Coast','Santo Domingo de los Tsachilas':'Coast','Guayas':'Coast','Los Rios':'Coast'\n",
    "           ,'Manabi':'Coast','Santa Elena':'Coast',\n",
    "           'Azuay':'Sierra','Bolivar':'Sierra','Cotopaxi':'Sierra','Chimborazo':'Sierra','Imbabura':'Sierra'\n",
    "            ,'Loja':'Sierra','Pichincha':'Sierra','Tungurahua':'Sierra','Pastaza':'Amazon'}"
   ]
  },
  {
   "cell_type": "code",
   "execution_count": 5,
   "metadata": {
    "collapsed": true
   },
   "outputs": [],
   "source": [
    "store_data['Geographic Region'] = store_data['state'].map(reg_dict)"
   ]
  },
  {
   "cell_type": "code",
   "execution_count": 6,
   "metadata": {},
   "outputs": [],
   "source": [
    "store_data.drop([\"city\",\"state\",\"type\",\"cluster\"],inplace=True,axis=1)"
   ]
  },
  {
   "cell_type": "code",
   "execution_count": 7,
   "metadata": {},
   "outputs": [],
   "source": [
    "items_data.drop(\"class\",axis=1,inplace=True)"
   ]
  },
  {
   "cell_type": "markdown",
   "metadata": {},
   "source": [
    "### Stores"
   ]
  },
  {
   "cell_type": "code",
   "execution_count": 8,
   "metadata": {
    "scrolled": true
   },
   "outputs": [],
   "source": [
    "merged_data=data.merge(store_data,how=\"left\",on=\"store_nbr\")"
   ]
  },
  {
   "cell_type": "code",
   "execution_count": 9,
   "metadata": {},
   "outputs": [],
   "source": [
    "agg_data=pd.DataFrame({'unit_sales' : merged_data.groupby([\"store_nbr\",\"date\"])[\"unit_sales\"].sum(),\n",
    "                       'region':merged_data.groupby([\"store_nbr\",\"date\"])[\"Geographic Region\"].max()}).reset_index()"
   ]
  },
  {
   "cell_type": "code",
   "execution_count": 10,
   "metadata": {},
   "outputs": [],
   "source": [
    "agg_data=agg_data.merge(transactions_data,how=\"left\",on=[\"date\",\"store_nbr\"])"
   ]
  },
  {
   "cell_type": "code",
   "execution_count": 11,
   "metadata": {
    "scrolled": true
   },
   "outputs": [],
   "source": [
    "scaler = MinMaxScaler()\n",
    "agg_data[\"unit_sales\"]=scaler.fit_transform(np.array(agg_data.unit_sales).reshape(-1,1))\n",
    "scaler1 = MinMaxScaler()\n",
    "agg_data[\"transactions\"]=scaler.fit_transform(np.array(agg_data.transactions).reshape(-1,1))"
   ]
  },
  {
   "cell_type": "code",
   "execution_count": 12,
   "metadata": {
    "scrolled": true
   },
   "outputs": [],
   "source": [
    "final_agg_data=pd.DataFrame()\n",
    "for i in agg_data.store_nbr.unique():\n",
    "    temp_data=agg_data[agg_data.store_nbr==i].reset_index(drop=True)\n",
    "    for i in range(1,8):\n",
    "        temp_data[\"t\"+str(i)]=temp_data[\"unit_sales\"].shift(i)\n",
    "    temp_data.drop(temp_data[temp_data.isnull().any(axis=1)].index,inplace=True)\n",
    "    final_agg_data=pd.concat([final_agg_data,temp_data])"
   ]
  },
  {
   "cell_type": "code",
   "execution_count": 13,
   "metadata": {},
   "outputs": [],
   "source": [
    "final_agg_data.reset_index(inplace=True,drop=True)"
   ]
  },
  {
   "cell_type": "code",
   "execution_count": 14,
   "metadata": {},
   "outputs": [],
   "source": [
    "final_agg_data[\"date\"]=pd.to_datetime(final_agg_data.date)"
   ]
  },
  {
   "cell_type": "code",
   "execution_count": 15,
   "metadata": {},
   "outputs": [],
   "source": [
    "final_agg_data[\"weekday\"]=[i.weekday() for i in final_agg_data.date]\n",
    "final_agg_data[\"month\"]=[i.month for i in final_agg_data.date]"
   ]
  },
  {
   "cell_type": "code",
   "execution_count": 16,
   "metadata": {},
   "outputs": [],
   "source": [
    "final_agg_data=pd.concat([pd.get_dummies(final_agg_data[['store_nbr', 'region','weekday', 'month']].astype(str)),\n",
    "          final_agg_data[['date','transactions', 't1', 't2', 't3','t4', 't5', 't6', 't7','unit_sales']]],axis=1)"
   ]
  },
  {
   "cell_type": "code",
   "execution_count": 17,
   "metadata": {},
   "outputs": [],
   "source": [
    "final_agg_data.to_csv(\"stores_agg.csv\",index=None)"
   ]
  },
  {
   "cell_type": "code",
   "execution_count": 39,
   "metadata": {
    "scrolled": true
   },
   "outputs": [],
   "source": [
    "final_agg_data.drop(\"date\",inplace=True,axis=1)"
   ]
  },
  {
   "cell_type": "markdown",
   "metadata": {},
   "source": [
    "### Items"
   ]
  },
  {
   "cell_type": "code",
   "execution_count": 18,
   "metadata": {},
   "outputs": [],
   "source": [
    "merged_data_items=data.merge(items_data,how=\"left\",on=\"item_nbr\")"
   ]
  },
  {
   "cell_type": "code",
   "execution_count": 19,
   "metadata": {},
   "outputs": [],
   "source": [
    "agg_data_items=pd.DataFrame({'unit_sales' : merged_data_items.groupby([\"date\",\"family\"])[\"unit_sales\"].sum(),\n",
    "                       'perishable':merged_data_items.groupby([\"date\",\"family\"])[\"perishable\"].mean()}).reset_index()"
   ]
  },
  {
   "cell_type": "code",
   "execution_count": 20,
   "metadata": {},
   "outputs": [],
   "source": [
    "scaler2 = MinMaxScaler()\n",
    "agg_data_items[\"unit_sales\"]=scaler2.fit_transform(np.array(agg_data_items.unit_sales).reshape(-1,1))"
   ]
  },
  {
   "cell_type": "code",
   "execution_count": 21,
   "metadata": {
    "collapsed": true
   },
   "outputs": [],
   "source": [
    "final_agg_data_items=pd.DataFrame()\n",
    "for i in agg_data_items.family.unique():\n",
    "    temp_data=agg_data_items[agg_data_items.family==i].reset_index(drop=True)\n",
    "    for i in range(1,8):\n",
    "        temp_data[\"t\"+str(i)]=temp_data[\"unit_sales\"].shift(i)\n",
    "    temp_data.drop(temp_data[temp_data.isnull().any(axis=1)].index,inplace=True)\n",
    "    final_agg_data_items=pd.concat([final_agg_data_items,temp_data])"
   ]
  },
  {
   "cell_type": "code",
   "execution_count": 22,
   "metadata": {
    "collapsed": true
   },
   "outputs": [],
   "source": [
    "final_agg_data_items.reset_index(inplace=True,drop=True)"
   ]
  },
  {
   "cell_type": "code",
   "execution_count": 23,
   "metadata": {},
   "outputs": [],
   "source": [
    "final_agg_data_items[\"date\"]=pd.to_datetime(final_agg_data_items.date)"
   ]
  },
  {
   "cell_type": "code",
   "execution_count": 24,
   "metadata": {},
   "outputs": [],
   "source": [
    "final_agg_data_items[\"weekday\"]=[i.weekday() for i in final_agg_data_items.date]\n",
    "final_agg_data_items[\"month\"]=[i.month for i in final_agg_data_items.date]"
   ]
  },
  {
   "cell_type": "code",
   "execution_count": 25,
   "metadata": {
    "collapsed": true
   },
   "outputs": [],
   "source": [
    "final_agg_data_items=pd.concat([pd.get_dummies(final_agg_data_items[['family','weekday', 'month']].astype(str)),\n",
    "          final_agg_data_items[['date','t1', 't2', 't3','t4', 't5', 't6', 't7','unit_sales']]],axis=1)"
   ]
  },
  {
   "cell_type": "code",
   "execution_count": 28,
   "metadata": {
    "collapsed": true
   },
   "outputs": [],
   "source": [
    "final_agg_data_items.to_csv(\"items_agg.csv\",index=None)"
   ]
  },
  {
   "cell_type": "code",
   "execution_count": 14,
   "metadata": {
    "collapsed": true
   },
   "outputs": [],
   "source": [
    "final_agg_data_items.drop(\"date\",inplace=True,axis=1)"
   ]
  },
  {
   "cell_type": "markdown",
   "metadata": {
    "collapsed": true
   },
   "source": [
    "### Final Model"
   ]
  },
  {
   "cell_type": "code",
   "execution_count": 9,
   "metadata": {},
   "outputs": [],
   "source": [
    "agg_data_final=data.merge(store_data,how=\"left\",on=\"store_nbr\")"
   ]
  },
  {
   "cell_type": "code",
   "execution_count": 10,
   "metadata": {
    "collapsed": true
   },
   "outputs": [],
   "source": [
    "agg_data_final=agg_data_final.merge(items_data,on=\"item_nbr\",how=\"left\")"
   ]
  },
  {
   "cell_type": "code",
   "execution_count": 11,
   "metadata": {
    "collapsed": true
   },
   "outputs": [],
   "source": [
    "temp_unit_sales=agg_data_final.groupby([\"date\",\"store_nbr\",\"family\"])[\"unit_sales\"].sum()"
   ]
  },
  {
   "cell_type": "code",
   "execution_count": 12,
   "metadata": {
    "collapsed": true
   },
   "outputs": [],
   "source": [
    "temp_perishable=agg_data_final.groupby([\"date\",\"store_nbr\",\"family\"])[\"perishable\"].mean()"
   ]
  },
  {
   "cell_type": "code",
   "execution_count": 14,
   "metadata": {},
   "outputs": [],
   "source": [
    "agg_data_final1=pd.DataFrame({'unit_sales' : temp_unit_sales,\n",
    "                       'perishable': temp_perishable}).reset_index()"
   ]
  },
  {
   "cell_type": "code",
   "execution_count": 18,
   "metadata": {},
   "outputs": [],
   "source": [
    "agg_data_final1=agg_data_final1.merge(store_data,on=\"store_nbr\",how=\"left\")"
   ]
  },
  {
   "cell_type": "code",
   "execution_count": 20,
   "metadata": {
    "collapsed": true
   },
   "outputs": [],
   "source": [
    "agg_data_final1[\"date\"]=pd.to_datetime(agg_data_final1.date)"
   ]
  },
  {
   "cell_type": "code",
   "execution_count": 21,
   "metadata": {},
   "outputs": [],
   "source": [
    "agg_data_final1[\"weekday\"]=[i.weekday() for i in agg_data_final1.date]\n",
    "agg_data_final1[\"month\"]=[i.month for i in agg_data_final1.date]"
   ]
  },
  {
   "cell_type": "code",
   "execution_count": 23,
   "metadata": {},
   "outputs": [],
   "source": [
    "agg_data_final1.to_csv(\"agg_final_data.csv\",index=False)"
   ]
  },
  {
   "cell_type": "code",
   "execution_count": null,
   "metadata": {
    "collapsed": true
   },
   "outputs": [],
   "source": []
  }
 ],
 "metadata": {
  "kernelspec": {
   "display_name": "Python 3",
   "language": "python",
   "name": "python3"
  },
  "language_info": {
   "codemirror_mode": {
    "name": "ipython",
    "version": 3
   },
   "file_extension": ".py",
   "mimetype": "text/x-python",
   "name": "python",
   "nbconvert_exporter": "python",
   "pygments_lexer": "ipython3",
   "version": "3.5.4"
  }
 },
 "nbformat": 4,
 "nbformat_minor": 1
}
